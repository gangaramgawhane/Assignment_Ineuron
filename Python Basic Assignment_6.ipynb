{
 "cells": [
  {
   "cell_type": "code",
   "execution_count": 1,
   "id": "78ef0cc1",
   "metadata": {},
   "outputs": [
    {
     "data": {
      "text/plain": [
       "'To insert characters that are illegal in a string, use an escape character.\\n\\nAn escape character is a backslash \\\\ followed by the character you want to insert.\\n\\nAn example of an illegal character is a double quote inside a string that is surrounded by double quotes:\\n\\nExample-\\n\\ntxt = \"We are the so-called \"Vikings\" from the north.\\n\\n\\nTo fix this problem, use the escape character \":\\n\\n\\ntxt = \"We are the so-called \"Vikings\" from the north.\"\"'"
      ]
     },
     "execution_count": 1,
     "metadata": {},
     "output_type": "execute_result"
    }
   ],
   "source": [
    "#What are escape characters, and how do you use them?\n",
    "'''To insert characters that are illegal in a string, use an escape character.\n",
    "\n",
    "An escape character is a backslash \\ followed by the character you want to insert.\n",
    "\n",
    "An example of an illegal character is a double quote inside a string that is surrounded by double quotes:\n",
    "\n",
    "Example-\n",
    "\n",
    "txt = \"We are the so-called \"Vikings\" from the north.\n",
    "\n",
    "\n",
    "To fix this problem, use the escape character \\\":\n",
    "\n",
    "\n",
    "txt = \"We are the so-called \\\"Vikings\\\" from the north.\"\"'''"
   ]
  },
  {
   "cell_type": "code",
   "execution_count": 2,
   "id": "4fbb8a51",
   "metadata": {},
   "outputs": [
    {
     "data": {
      "text/plain": [
       "'It is used in representing certain whitespace characters: \"\\t\" is a tab, \"\\n\" is a newline, and \"\\r\" is a carriage \\nreturn. ... Likewise, \\'\"\\' can be escaped: \"\"hello\"\" is a string begins and ends with the literal double quote character.'"
      ]
     },
     "execution_count": 2,
     "metadata": {},
     "output_type": "execute_result"
    }
   ],
   "source": [
    "#2. What do the escape characters n and t stand for?\n",
    "'''It is used in representing certain whitespace characters: \"\\t\" is a tab, \"\\n\" is a newline, and \"\\r\" is a carriage \n",
    "return. ... Likewise, '\"' can be escaped: \"\\\"hello\\\"\" is a string begins and ends with the literal double quote character.'''"
   ]
  },
  {
   "cell_type": "code",
   "execution_count": 3,
   "id": "39506c23",
   "metadata": {},
   "outputs": [
    {
     "data": {
      "text/plain": [
       "'If you want to include a backslash character itself, you need two backslashes or use the @ verbatim string: \\n\\n    var s = \"\\\\Tasks\"; // or var s = @\"\\\\Tasks\"; Read the MSDN documentation/C# Specification which discusses\\n    the characters that are escaped using the backslash character and the use of the verbatim string literal'"
      ]
     },
     "execution_count": 3,
     "metadata": {},
     "output_type": "execute_result"
    }
   ],
   "source": [
    "#3. What is the way to include backslash characters in a string?\n",
    "'''If you want to include a backslash character itself, you need two backslashes or use the @ verbatim string: \n",
    "\n",
    "    var s = \"\\\\Tasks\"; // or var s = @\"\\Tasks\"; Read the MSDN documentation/C# Specification which discusses\n",
    "    the characters that are escaped using the backslash character and the use of the verbatim string literal'''"
   ]
  },
  {
   "cell_type": "code",
   "execution_count": 4,
   "id": "37d2d9d2",
   "metadata": {},
   "outputs": [],
   "source": [
    "4.# The string \"Howl's Moving Castle\" is a correct value. Why isn't the single quote character in the word Howl's not \n",
    "#escaped a problem?\n",
    "a=\"Howl's Moving Castle\"\n",
    "\n",
    "'''The single quote in Howl's is fine because we've used double quotes to mark the beginning and end of the string.'''"
   ]
  },
  {
   "cell_type": "code",
   "execution_count": 5,
   "id": "6e26eb08",
   "metadata": {},
   "outputs": [
    {
     "data": {
      "text/plain": [
       "\"Howl's Moving Castle\""
      ]
     },
     "execution_count": 5,
     "metadata": {},
     "output_type": "execute_result"
    }
   ],
   "source": [
    "a"
   ]
  },
  {
   "cell_type": "code",
   "execution_count": 6,
   "id": "a92749c6",
   "metadata": {},
   "outputs": [],
   "source": [
    "#5. How do you write a string of newlines if you don't want to use the n character?"
   ]
  },
  {
   "cell_type": "code",
   "execution_count": 11,
   "id": "5a166397",
   "metadata": {},
   "outputs": [
    {
     "data": {
      "text/plain": [
       "'e'"
      ]
     },
     "execution_count": 11,
     "metadata": {},
     "output_type": "execute_result"
    }
   ],
   "source": [
    "#6. What are the values of the given expressions?\n",
    "'Hello, world!'[1]\n"
   ]
  },
  {
   "cell_type": "code",
   "execution_count": 8,
   "id": "9f824f3e",
   "metadata": {},
   "outputs": [
    {
     "data": {
      "text/plain": [
       "'Hello'"
      ]
     },
     "execution_count": 8,
     "metadata": {},
     "output_type": "execute_result"
    }
   ],
   "source": [
    "'Hello, world!'[0:5]"
   ]
  },
  {
   "cell_type": "code",
   "execution_count": 9,
   "id": "bd295fc9",
   "metadata": {},
   "outputs": [
    {
     "data": {
      "text/plain": [
       "'Hello'"
      ]
     },
     "execution_count": 9,
     "metadata": {},
     "output_type": "execute_result"
    }
   ],
   "source": [
    "'Hello, world!'[:5]"
   ]
  },
  {
   "cell_type": "code",
   "execution_count": 10,
   "id": "0c56de97",
   "metadata": {},
   "outputs": [
    {
     "data": {
      "text/plain": [
       "'lo, world!'"
      ]
     },
     "execution_count": 10,
     "metadata": {},
     "output_type": "execute_result"
    }
   ],
   "source": [
    "'Hello, world!'[3:]"
   ]
  },
  {
   "cell_type": "code",
   "execution_count": 16,
   "id": "635feb3a",
   "metadata": {},
   "outputs": [
    {
     "data": {
      "text/plain": [
       "'HELLO'"
      ]
     },
     "execution_count": 16,
     "metadata": {},
     "output_type": "execute_result"
    }
   ],
   "source": [
    "#7. What are the values of the following expressions?\n",
    "'Hello'.upper()"
   ]
  },
  {
   "cell_type": "code",
   "execution_count": 13,
   "id": "713ca7f2",
   "metadata": {},
   "outputs": [
    {
     "data": {
      "text/plain": [
       "True"
      ]
     },
     "execution_count": 13,
     "metadata": {},
     "output_type": "execute_result"
    }
   ],
   "source": [
    "'Hello'.upper().isupper()"
   ]
  },
  {
   "cell_type": "code",
   "execution_count": 14,
   "id": "29509500",
   "metadata": {},
   "outputs": [
    {
     "data": {
      "text/plain": [
       "'hello'"
      ]
     },
     "execution_count": 14,
     "metadata": {},
     "output_type": "execute_result"
    }
   ],
   "source": [
    "'Hello'.upper().lower()"
   ]
  },
  {
   "cell_type": "code",
   "execution_count": 19,
   "id": "9ce1cb77",
   "metadata": {},
   "outputs": [
    {
     "data": {
      "text/plain": [
       "['Remember,', 'remember,', 'the', 'fifth', 'of', 'July.']"
      ]
     },
     "execution_count": 19,
     "metadata": {},
     "output_type": "execute_result"
    }
   ],
   "source": [
    "#8. What are the values of the following expressions?\n",
    "'Remember, remember, the fifth of July.'.split()"
   ]
  },
  {
   "cell_type": "code",
   "execution_count": 20,
   "id": "0c0d91c2",
   "metadata": {},
   "outputs": [
    {
     "data": {
      "text/plain": [
       "'There-can-only-one.'"
      ]
     },
     "execution_count": 20,
     "metadata": {},
     "output_type": "execute_result"
    }
   ],
   "source": [
    "'-'.join('There can only one.'.split())"
   ]
  },
  {
   "cell_type": "code",
   "execution_count": 27,
   "id": "bf63b7c7",
   "metadata": {},
   "outputs": [
    {
     "data": {
      "text/plain": [
       "'str.ljust(s, width[, fillchar])\\nstr.rjust(s, width[, fillchar])\\nstr.center(s, width[, fillchar])'"
      ]
     },
     "execution_count": 27,
     "metadata": {},
     "output_type": "execute_result"
    }
   ],
   "source": [
    "#9. What are the methods for right-justifying, left-justifying, and centering a string?\n",
    "\n",
    "'''ljust(), rjust(), center()'''\n",
    "#Example-\n",
    "\n",
    "'''str.ljust(s, width[, fillchar])\n",
    "str.rjust(s, width[, fillchar])\n",
    "str.center(s, width[, fillchar])'''"
   ]
  },
  {
   "cell_type": "code",
   "execution_count": 31,
   "id": "e36f9e09",
   "metadata": {},
   "outputs": [
    {
     "data": {
      "text/plain": [
       "'Trim() Removes all leading and trailing white-space characters from the current string'"
      ]
     },
     "execution_count": 31,
     "metadata": {},
     "output_type": "execute_result"
    }
   ],
   "source": [
    "#10. What is the best way to remove whitespace characters from the start or end?\n",
    "'''Trim() Removes all leading and trailing white-space characters from the current string'''"
   ]
  },
  {
   "cell_type": "code",
   "execution_count": null,
   "id": "31aa46c5",
   "metadata": {},
   "outputs": [],
   "source": []
  }
 ],
 "metadata": {
  "kernelspec": {
   "display_name": "Python 3 (ipykernel)",
   "language": "python",
   "name": "python3"
  },
  "language_info": {
   "codemirror_mode": {
    "name": "ipython",
    "version": 3
   },
   "file_extension": ".py",
   "mimetype": "text/x-python",
   "name": "python",
   "nbconvert_exporter": "python",
   "pygments_lexer": "ipython3",
   "version": "3.9.7"
  }
 },
 "nbformat": 4,
 "nbformat_minor": 5
}
