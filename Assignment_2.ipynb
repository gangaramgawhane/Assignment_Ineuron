{
 "cells": [
  {
   "cell_type": "code",
   "execution_count": null,
   "id": "04047619",
   "metadata": {},
   "outputs": [],
   "source": [
    "#1.What are the two values of the Boolean data type? How do you write them?\n",
    "\n",
    "\n",
    "'''Boolean data has has two values i.e. True and false. we use them when we want to compare two statement or values. \n",
    "if the the statement is true it returns as true and when it is not then it returns as False please see below line code for reference and as an example'''"
   ]
  },
  {
   "cell_type": "code",
   "execution_count": 9,
   "id": "4f4f5d7b",
   "metadata": {},
   "outputs": [
    {
     "data": {
      "text/plain": [
       "True"
      ]
     },
     "execution_count": 9,
     "metadata": {},
     "output_type": "execute_result"
    }
   ],
   "source": [
    "a=10\n",
    "a==15\n",
    "\n",
    "#here the value of a is 10 and when we compare it with 15 it gives us result as False. "
   ]
  },
  {
   "cell_type": "code",
   "execution_count": 10,
   "id": "800c75e5",
   "metadata": {},
   "outputs": [
    {
     "data": {
      "text/plain": [
       "True"
      ]
     },
     "execution_count": 10,
     "metadata": {},
     "output_type": "execute_result"
    }
   ],
   "source": [
    "a=10\n",
    "a==10\n",
    "#here the value of a is 10 and when we compare it with 10 it gives us result as true. "
   ]
  },
  {
   "cell_type": "code",
   "execution_count": null,
   "id": "3b310d00",
   "metadata": {},
   "outputs": [],
   "source": [
    "#2. What are the three different types of Boolean operators?\n",
    "#3. Make a list of each Boolean operator's truth tables (i.e., every possible combination of Boolean values for the operator and what it evaluates).\n",
    "'''In boolean we make use of the boolean expressions and decide the outcome of the expressions according to the operator\n",
    "When we work with multiple boolean expressions or perform some action on them, we make use of the boolean operators. \n",
    "Since the boolean expression reveals true or false, the operations on these expressions also result\n",
    "in either \"true\" or \"false\". Consequently, there are three types of boolean operators:\n",
    "\n",
    "The AND operator (&& or \"and\")\n",
    "The OR operator (|| or \"or\")\n",
    "The NOT operator (not)\n",
    "\n",
    "see below examples of all 3 operators in 11,12,13'''"
   ]
  },
  {
   "cell_type": "code",
   "execution_count": 11,
   "id": "216d25da",
   "metadata": {},
   "outputs": [
    {
     "name": "stdout",
     "output_type": "stream",
     "text": [
      "False\n"
     ]
    }
   ],
   "source": [
    "#The AND boolean operator isanalyzes the expressions written on both sides and returns the output.\n",
    "a = 30\n",
    "b = 45\n",
    "if(a > 30 and b == 45):\n",
    "    print(\"True\")\n",
    "else:\n",
    "    print(\"False\")"
   ]
  },
  {
   "cell_type": "code",
   "execution_count": 12,
   "id": "dacc62e2",
   "metadata": {},
   "outputs": [
    {
     "name": "stdout",
     "output_type": "stream",
     "text": [
      "True\n"
     ]
    }
   ],
   "source": [
    "#The OR operator is similar to the OR bitwise operator. In the bitwise OR, we were focussing on either of the bit being 1. \n",
    "#Here, we take into account if either of the expression is true or not. \n",
    "#If at least one expression is true, consequently, the result is true.\n",
    "a = 30\n",
    "b = 45\n",
    "if(a > 30 or b == 45):\n",
    "    print(\"True\")\n",
    "else:\n",
    "    print(\"False\")"
   ]
  },
  {
   "cell_type": "code",
   "execution_count": 13,
   "id": "aa1a91bd",
   "metadata": {},
   "outputs": [
    {
     "name": "stdout",
     "output_type": "stream",
     "text": [
      "Else Executed\n"
     ]
    }
   ],
   "source": [
    "#The NOT operator reverses the result of the boolean expression that follows the operator. \n",
    "#It is important to note that the NOT operator will only reverse the final result of the expression \n",
    "#that immediately follows. Moreover, the NOT operator is denoted by the keyword \"not\".\n",
    "a = 2\n",
    "b = 2\n",
    "if(not(a == b)):\n",
    "    print(\"If Executed\")\n",
    "else:\n",
    "    print(\"Else Executed\")"
   ]
  },
  {
   "cell_type": "code",
   "execution_count": 2,
   "id": "00180dc9",
   "metadata": {},
   "outputs": [
    {
     "data": {
      "text/plain": [
       "False"
      ]
     },
     "execution_count": 2,
     "metadata": {},
     "output_type": "execute_result"
    }
   ],
   "source": [
    "#4. What are the values of the following expressions?\n",
    "#(5 > 4) and (3 == 5)\n",
    "#not (5 > 4)\n",
    "#(5 > 4) or (3 == 5)\n",
    "#not ((5 > 4) or (3 == 5))\n",
    "#(True and True) and (True == False)\n",
    "#(not False) or (not True)\n",
    "'''\n",
    "not (5 > 4)"
   ]
  },
  {
   "cell_type": "code",
   "execution_count": 3,
   "id": "6e65368b",
   "metadata": {},
   "outputs": [
    {
     "data": {
      "text/plain": [
       "True"
      ]
     },
     "execution_count": 3,
     "metadata": {},
     "output_type": "execute_result"
    }
   ],
   "source": [
    "(5 > 4) or (3 == 5)"
   ]
  },
  {
   "cell_type": "code",
   "execution_count": 4,
   "id": "bff80ea1",
   "metadata": {},
   "outputs": [
    {
     "data": {
      "text/plain": [
       "False"
      ]
     },
     "execution_count": 4,
     "metadata": {},
     "output_type": "execute_result"
    }
   ],
   "source": [
    "not ((5 > 4) or (3 == 5))"
   ]
  },
  {
   "cell_type": "code",
   "execution_count": 5,
   "id": "da3cae70",
   "metadata": {},
   "outputs": [
    {
     "data": {
      "text/plain": [
       "False"
      ]
     },
     "execution_count": 5,
     "metadata": {},
     "output_type": "execute_result"
    }
   ],
   "source": [
    "(True and True) and (True == False)   "
   ]
  },
  {
   "cell_type": "code",
   "execution_count": 6,
   "id": "160438ba",
   "metadata": {},
   "outputs": [
    {
     "data": {
      "text/plain": [
       "True"
      ]
     },
     "execution_count": 6,
     "metadata": {},
     "output_type": "execute_result"
    }
   ],
   "source": [
    "(not False) or (not True)"
   ]
  },
  {
   "cell_type": "code",
   "execution_count": 14,
   "id": "5317d672",
   "metadata": {},
   "outputs": [
    {
     "data": {
      "text/plain": [
       "'Operator\\tDescription\\tExample\\nEqual-To (== )\\tDecides whether the values are equal or not.\\ta = 20, b = 20 a == b returns True\\nNot-Equal-To (!= )\\tDecides whether the values are unequal or not.\\ta = 10, b = 12a != b returns True\\nGreater-Than (> )\\tDecides whether the left-value is greater or not.\\ta = 25, b = 10 a > b returns True\\nLess-Than (< )\\tDecides whether the left-value if lesser or not.\\ta = 10, b = 25 a < b returns True\\nGreater-Than-Equal-To (>= )\\tDecides whether the left-value is greater or equal to the right value or not.\\ta = 10, b = 10 a >= b returns True\\nLess-Than-Equal-To (<= )\\tDecides whether the left-value is lesser or equal to the right value or not.\\ta = 34, b = 34 a <= b returns True'"
      ]
     },
     "execution_count": 14,
     "metadata": {},
     "output_type": "execute_result"
    }
   ],
   "source": [
    "#5. What are the six comparison operators?\n",
    "'''Comparison operators in python do exactly what the name suggests: comparing. \n",
    "Comparison operators are also called relational operators as they find the relation between the operands \n",
    "(greater than, equal, etc.) and generate a boolean value in terms of True and False.'''\n",
    "\n",
    "'''Operator\tDescription\tExample\n",
    "Equal-To (== )\tDecides whether the values are equal or not.\ta = 20, b = 20 a == b returns True\n",
    "Not-Equal-To (!= )\tDecides whether the values are unequal or not.\ta = 10, b = 12a != b returns True\n",
    "Greater-Than (> )\tDecides whether the left-value is greater or not.\ta = 25, b = 10 a > b returns True\n",
    "Less-Than (< )\tDecides whether the left-value if lesser or not.\ta = 10, b = 25 a < b returns True\n",
    "Greater-Than-Equal-To (>= )\tDecides whether the left-value is greater or equal to the right value or not.\ta = 10, b = 10 a >= b returns True\n",
    "Less-Than-Equal-To (<= )\tDecides whether the left-value is lesser or equal to the right value or not.\ta = 34, b = 34 a <= b returns True'''"
   ]
  },
  {
   "cell_type": "code",
   "execution_count": 15,
   "id": "e072c30f",
   "metadata": {},
   "outputs": [
    {
     "data": {
      "text/plain": [
       "'see below examples'"
      ]
     },
     "execution_count": 15,
     "metadata": {},
     "output_type": "execute_result"
    }
   ],
   "source": [
    "#6. How do you tell the difference between the equal to and assignment operators?Describe a condition and when you would use one.\n",
    "'''equal to is a operator that compares the two values or statements. it is expressed as == while writing a code\n",
    "\n",
    "whereas assignment operator is used to assign value to variable. is is expressed as =. \n",
    "\n",
    "we cannot use just = sign to use comparison in code'''\n",
    "\n",
    "'''see below examples'''"
   ]
  },
  {
   "cell_type": "code",
   "execution_count": 19,
   "id": "97a899d4",
   "metadata": {},
   "outputs": [
    {
     "data": {
      "text/plain": [
       "10"
      ]
     },
     "execution_count": 19,
     "metadata": {},
     "output_type": "execute_result"
    }
   ],
   "source": [
    "#here we have used one = sign to assign value 10 in variable name a \n",
    "a=10\n",
    "a"
   ]
  },
  {
   "cell_type": "code",
   "execution_count": 21,
   "id": "e53cdf2b",
   "metadata": {},
   "outputs": [
    {
     "data": {
      "text/plain": [
       "False"
      ]
     },
     "execution_count": 21,
     "metadata": {},
     "output_type": "execute_result"
    }
   ],
   "source": [
    "#here we have used one == sign to compare the values of a to another value 20\n",
    "a=10\n",
    "a==20"
   ]
  },
  {
   "cell_type": "code",
   "execution_count": 22,
   "id": "89a46aa7",
   "metadata": {},
   "outputs": [
    {
     "ename": "IndentationError",
     "evalue": "expected an indented block (Temp/ipykernel_18148/3260242456.py, line 4)",
     "output_type": "error",
     "traceback": [
      "\u001b[1;36m  File \u001b[1;32m\"C:\\Users\\Ganga\\AppData\\Local\\Temp/ipykernel_18148/3260242456.py\"\u001b[1;36m, line \u001b[1;32m4\u001b[0m\n\u001b[1;33m    print('eggs')\u001b[0m\n\u001b[1;37m    ^\u001b[0m\n\u001b[1;31mIndentationError\u001b[0m\u001b[1;31m:\u001b[0m expected an indented block\n"
     ]
    }
   ],
   "source": [
    "#'''7. Identify the three blocks in this code:\n",
    "\n",
    "spam=0\n",
    "if spam == 10:\n",
    "print('eggs')---\"expected an indented block\"\n",
    "if spam > 5:\n",
    "print('bacon')---'expected an indented block'\n",
    "else:\n",
    "print('ham')---'expected an indented block'\n",
    "print('spam')\n",
    "print('spam')\n",
    "'''\n",
    "'''Please see corrected code below'''"
   ]
  },
  {
   "cell_type": "code",
   "execution_count": 30,
   "id": "fe598e41",
   "metadata": {},
   "outputs": [
    {
     "name": "stdout",
     "output_type": "stream",
     "text": [
      "ham\n",
      "spam\n",
      "spam\n"
     ]
    }
   ],
   "source": [
    "spam = 0\n",
    "if spam == 10:\n",
    "    print('eggs')\n",
    "if spam > 5:\n",
    "    print('bacon')\n",
    "else:\n",
    "    print('ham')\n",
    "print('spam')\n",
    "print('spam')"
   ]
  },
  {
   "cell_type": "code",
   "execution_count": 50,
   "id": "06bda539",
   "metadata": {},
   "outputs": [
    {
     "name": "stdout",
     "output_type": "stream",
     "text": [
      "erf\n",
      "Greetings!\n"
     ]
    }
   ],
   "source": [
    "#8. Write code that prints Hello if 1 is stored in spam, prints Howdy if 2 is stored in spam, \n",
    "#and prints Greetings! if anything else is stored in spam.\n",
    "\n",
    "spam=input()\n",
    "if spam==\"1\":\n",
    "    print(\"Hello\")\n",
    "elif spam==\"2\":\n",
    "    print(\"Howdy\")\n",
    "else:\n",
    "    print(\"Greetings!\")"
   ]
  },
  {
   "cell_type": "code",
   "execution_count": 51,
   "id": "ea898f65",
   "metadata": {},
   "outputs": [
    {
     "data": {
      "text/plain": [
       "'if my programme is stuck in a endless loop then i will press CTRL + C key'"
      ]
     },
     "execution_count": 51,
     "metadata": {},
     "output_type": "execute_result"
    }
   ],
   "source": [
    "#9.If your programme is stuck in an endless loop, what keys you’ll press?\n",
    "\n",
    "'''if my programme is stuck in a endless loop then i will press CTRL + C key'''"
   ]
  },
  {
   "cell_type": "code",
   "execution_count": 52,
   "id": "e22b8616",
   "metadata": {},
   "outputs": [
    {
     "data": {
      "text/plain": [
       "'A break statement, when used inside the loop, will terminate the loop and exit. If used inside nested loops, \\n    it will break out from the current loop.\\n    A continue statement will stop the current execution when used inside a loop, and the control \\n    will go back to the start of the loop.\\n    \\n    The main difference between break and continue statement is that when break keyword is encountered, it will exit the loop.\\n\\n    In case of continue keyword, the current iteration that is running will be stopped, and it will proceed with the next iteration.'"
      ]
     },
     "execution_count": 52,
     "metadata": {},
     "output_type": "execute_result"
    }
   ],
   "source": [
    "#10. How can you tell the difference between break and continue?\n",
    "\n",
    "'''A break statement, when used inside the loop, will terminate the loop and exit. If used inside nested loops, \n",
    "    it will break out from the current loop.\n",
    "    A continue statement will stop the current execution when used inside a loop, and the control \n",
    "    will go back to the start of the loop.\n",
    "    \n",
    "    The main difference between break and continue statement is that when break keyword is encountered, it will exit the loop.\n",
    "\n",
    "    In case of continue keyword, the current iteration that is running will be stopped, and it will proceed with the next iteration.'''"
   ]
  },
  {
   "cell_type": "code",
   "execution_count": 61,
   "id": "31c3ca9b",
   "metadata": {},
   "outputs": [
    {
     "name": "stdout",
     "output_type": "stream",
     "text": [
      "0\n",
      "1\n",
      "2\n",
      "3\n",
      "4\n",
      "5\n",
      "6\n",
      "7\n",
      "8\n",
      "9\n"
     ]
    }
   ],
   "source": [
    "#11. In a for loop, what is the difference between range(10), range(0, 10), and range(0, 10, 1)?\n",
    "'''In the given situations all 3 will produce the same output but the difference is \n",
    "    just the way values given inside the bracket.\n",
    "in first example - range(10)- \n",
    "the range will be created from 0 to 10. here the start will be taken as 0 by default and range will be created till 10\n",
    "    \n",
    "    in the second example-- range(0,10)\n",
    "    \n",
    "    we are giving start range 0 to and stop value 10 and it will create a range of 0-10.\n",
    "    \n",
    "     in the second example-- range(0,10,1)\n",
    "     here we are giving 3 values start value, stop value and the third one is step value. it means code will create range of \n",
    "     0-10 but it will take step of 1. '''\n",
    "'''i have shown below 3 examples how these works'''\n",
    "    \n",
    "for i in range(10):\n",
    "    print(i)"
   ]
  },
  {
   "cell_type": "code",
   "execution_count": 62,
   "id": "d5a6e20a",
   "metadata": {},
   "outputs": [
    {
     "name": "stdout",
     "output_type": "stream",
     "text": [
      "2\n",
      "3\n",
      "4\n",
      "5\n",
      "6\n",
      "7\n",
      "8\n",
      "9\n"
     ]
    }
   ],
   "source": [
    "for i in range(2,10):\n",
    "    print(i)"
   ]
  },
  {
   "cell_type": "code",
   "execution_count": 59,
   "id": "44e02362",
   "metadata": {},
   "outputs": [
    {
     "name": "stdout",
     "output_type": "stream",
     "text": [
      "0\n",
      "5\n"
     ]
    }
   ],
   "source": [
    "for i in range(0,10,5):\n",
    "    print(i)"
   ]
  },
  {
   "cell_type": "code",
   "execution_count": 97,
   "id": "0f0c06c3",
   "metadata": {},
   "outputs": [
    {
     "name": "stdout",
     "output_type": "stream",
     "text": [
      "0\n",
      "1\n",
      "2\n",
      "3\n",
      "4\n",
      "5\n",
      "6\n",
      "7\n",
      "8\n",
      "9\n",
      "10\n"
     ]
    }
   ],
   "source": [
    "#12. Write a short program that prints the numbers 1 to 10 using a for loop. \n",
    "#Then write an equivalent program that prints the numbers 1 to 10 using a while loop.\n",
    "\n",
    "for i in range(11):\n",
    "    print(i)"
   ]
  },
  {
   "cell_type": "code",
   "execution_count": 101,
   "id": "294b8e30",
   "metadata": {},
   "outputs": [
    {
     "name": "stdout",
     "output_type": "stream",
     "text": [
      "1\n",
      "2\n",
      "3\n",
      "4\n",
      "5\n",
      "6\n",
      "7\n",
      "8\n",
      "9\n",
      "10\n"
     ]
    }
   ],
   "source": [
    "a = 1\n",
    "while(a<=10):\n",
    "    print(a)\n",
    "    a += 1"
   ]
  },
  {
   "cell_type": "code",
   "execution_count": 104,
   "id": "249e566b",
   "metadata": {},
   "outputs": [
    {
     "data": {
      "text/plain": [
       "'we can call it as below '"
      ]
     },
     "execution_count": 104,
     "metadata": {},
     "output_type": "execute_result"
    }
   ],
   "source": [
    "#13. If you had a function named bacon() inside a module named spam, how would you call it after importing spam?\n",
    "\n",
    "'''we can call it as below '''\n",
    "spam.becon()"
   ]
  },
  {
   "cell_type": "code",
   "execution_count": null,
   "id": "8adf0ae3",
   "metadata": {},
   "outputs": [],
   "source": []
  }
 ],
 "metadata": {
  "kernelspec": {
   "display_name": "Python 3 (ipykernel)",
   "language": "python",
   "name": "python3"
  },
  "language_info": {
   "codemirror_mode": {
    "name": "ipython",
    "version": 3
   },
   "file_extension": ".py",
   "mimetype": "text/x-python",
   "name": "python",
   "nbconvert_exporter": "python",
   "pygments_lexer": "ipython3",
   "version": "3.9.7"
  }
 },
 "nbformat": 4,
 "nbformat_minor": 5
}
