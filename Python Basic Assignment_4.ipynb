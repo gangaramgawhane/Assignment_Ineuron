{
 "cells": [
  {
   "cell_type": "code",
   "execution_count": 1,
   "id": "80a1d8fa",
   "metadata": {},
   "outputs": [
    {
     "data": {
      "text/plain": [
       "'[] is an square bracket to use save the list in it. The list is the most versatile datatype available in Python, \\n    which can be written as a list of comma-separated values (items) between square brackets.'"
      ]
     },
     "execution_count": 1,
     "metadata": {},
     "output_type": "execute_result"
    }
   ],
   "source": [
    "#1. What exactly is []?\n",
    "'''[] is an square bracket to use save the list in it. The list is the most versatile datatype available in Python, \n",
    "    which can be written as a list of comma-separated values (items) between square brackets.'''\n"
   ]
  },
  {
   "cell_type": "code",
   "execution_count": 4,
   "id": "f07443bc",
   "metadata": {},
   "outputs": [
    {
     "data": {
      "text/plain": [
       "[2, 4, 6, 'hello', 10]"
      ]
     },
     "execution_count": 4,
     "metadata": {},
     "output_type": "execute_result"
    }
   ],
   "source": [
    "#2. In a list of values stored in a variable called spam, how would you assign the value 'hello' as the third value? \n",
    "#(Assume [2, 4, 6, 8, 10] are in spam.)\n",
    "\n",
    "Spam=[2, 4, 6, 8, 10]\n",
    "Spam[3]='hello'\n",
    "\n",
    "Spam"
   ]
  },
  {
   "cell_type": "code",
   "execution_count": 6,
   "id": "38c99977",
   "metadata": {},
   "outputs": [],
   "source": [
    "# Let's pretend the spam includes the list ['a', 'b', 'c', 'd'] for the next three queries.\n",
    "Spam=['a', 'b', 'c', 'd']"
   ]
  },
  {
   "cell_type": "code",
   "execution_count": 11,
   "id": "5f6b5393",
   "metadata": {},
   "outputs": [
    {
     "data": {
      "text/plain": [
       "'the value for [int(int(\\'3\\' * 2) / 11)] is \"d\"'"
      ]
     },
     "execution_count": 11,
     "metadata": {},
     "output_type": "execute_result"
    }
   ],
   "source": [
    "#3. What is the value of spam[int(int('3' * 2) / 11)]?\n",
    "Spam=['a', 'b', 'c', 'd']\n",
    "Spam[int(int('3' * 2) / 11)]\n",
    "\n",
    "'''the value for [int(int('3' * 2) / 11)] is \"d\"'''"
   ]
  },
  {
   "cell_type": "code",
   "execution_count": 14,
   "id": "6b83a857",
   "metadata": {},
   "outputs": [
    {
     "data": {
      "text/plain": [
       "'d'"
      ]
     },
     "execution_count": 14,
     "metadata": {},
     "output_type": "execute_result"
    }
   ],
   "source": [
    "#4. What is the value of spam[-1]?\n",
    "#the value for Spam[-1] is d\n",
    "Spam[-1]"
   ]
  },
  {
   "cell_type": "code",
   "execution_count": 15,
   "id": "9fc2dd14",
   "metadata": {},
   "outputs": [
    {
     "data": {
      "text/plain": [
       "'d'"
      ]
     },
     "execution_count": 15,
     "metadata": {},
     "output_type": "execute_result"
    }
   ],
   "source": [
    "#5. What is the value of spam[:2]?\n",
    "#the value for Spam[:2] is d\n",
    "Spam[-1]"
   ]
  },
  {
   "cell_type": "code",
   "execution_count": 30,
   "id": "21e69a8d",
   "metadata": {},
   "outputs": [],
   "source": [
    "#Let's pretend bacon has the list [3.14, 'cat,' 11, 'cat,' True] for the next three questions.\n",
    "bacon=[3.14, 'cat',11, 'cat', \"True\"]"
   ]
  },
  {
   "cell_type": "code",
   "execution_count": 31,
   "id": "cbcb7144",
   "metadata": {},
   "outputs": [
    {
     "data": {
      "text/plain": [
       "1"
      ]
     },
     "execution_count": 31,
     "metadata": {},
     "output_type": "execute_result"
    }
   ],
   "source": [
    "#6. What is the value of bacon.index('cat')?\n",
    "bacon.index('cat')"
   ]
  },
  {
   "cell_type": "code",
   "execution_count": 32,
   "id": "f2541e7d",
   "metadata": {},
   "outputs": [
    {
     "data": {
      "text/plain": [
       "[3.14, 'cat', 11, 'cat', 'True', 99]"
      ]
     },
     "execution_count": 32,
     "metadata": {},
     "output_type": "execute_result"
    }
   ],
   "source": [
    "#7. How does bacon.append(99) change the look of the list value in bacon?\n",
    "bacon.append(99)\n",
    "bacon"
   ]
  },
  {
   "cell_type": "code",
   "execution_count": 41,
   "id": "a9c9f2d7",
   "metadata": {},
   "outputs": [
    {
     "data": {
      "text/plain": [
       "[3.14, 11, 'cat', 'True']"
      ]
     },
     "execution_count": 41,
     "metadata": {},
     "output_type": "execute_result"
    }
   ],
   "source": [
    "#8. How does bacon.remove('cat') change the look of the list in bacon?\n",
    "bacon=[3.14, 'cat',11, 'cat', \"True\"]\n",
    "bacon.remove('cat')\n",
    "bacon"
   ]
  },
  {
   "cell_type": "code",
   "execution_count": 44,
   "id": "ca22483a",
   "metadata": {},
   "outputs": [
    {
     "data": {
      "text/plain": [
       "'the above example is of concatenation where 2 list got added into one'"
      ]
     },
     "execution_count": 44,
     "metadata": {},
     "output_type": "execute_result"
    }
   ],
   "source": [
    "#9. What are the list concatenation and list replication operators?\n",
    "'''The operator for list concatenation is +, while the operator for replication is *.'''\n",
    "\n",
    "#for example-\n",
    "l=[1,2,3]\n",
    "l1=[4,5,6]\n",
    "\n",
    "l+l1\n",
    "\n",
    "'''the above example is of concatenation where 2 list got added into one'''"
   ]
  },
  {
   "cell_type": "code",
   "execution_count": 51,
   "id": "30f5a6c7",
   "metadata": {},
   "outputs": [
    {
     "data": {
      "text/plain": [
       "'here in insert function l become [1, 10, 2, 3, [4, 5, 6]]'"
      ]
     },
     "execution_count": 51,
     "metadata": {},
     "output_type": "execute_result"
    }
   ],
   "source": [
    "#10. What is difference between the list methods append() and insert()?\n",
    "'''The only difference between append() and insert() is that insert function allows us to add a specific element \n",
    "    at a specified index of the list unlike append() where we can add the element only at end of the list'''\n",
    "\n",
    "#For example-\n",
    "l=[1,2,3]\n",
    "l1=[4,5,6]\n",
    "\n",
    "l.append(l1)\n",
    "l\n",
    "'''here l become [1, 2, 3, [4, 5, 6]'''\n",
    "\n",
    "l.insert(1,10)\n",
    "\n",
    "'''here in insert function l become [1, 10, 2, 3, [4, 5, 6]]'''"
   ]
  },
  {
   "cell_type": "code",
   "execution_count": 52,
   "id": "c2aff293",
   "metadata": {},
   "outputs": [
    {
     "data": {
      "text/plain": [
       "'The methods are remove(), pop() and clear(). It helps to remove the very first given element matching from the list. \\n    The pop() method removes an element from the list based on the index given. \\n    The clear() method will remove all the elements present in the list.'"
      ]
     },
     "execution_count": 52,
     "metadata": {},
     "output_type": "execute_result"
    }
   ],
   "source": [
    "#11. What are the two methods for removing items from a list?\n",
    "'''The methods are remove(), pop() and clear(). It helps to remove the very first given element matching from the list. \n",
    "    The pop() method removes an element from the list based on the index given. \n",
    "    The clear() method will remove all the elements present in the list.'''"
   ]
  },
  {
   "cell_type": "code",
   "execution_count": 53,
   "id": "2a7d9fab",
   "metadata": {},
   "outputs": [
    {
     "data": {
      "text/plain": [
       "\" The values that make up a list are called its elements. Lists are similar to strings, which are ordered collections \\n    of characters, except that the elements of a list can have any type and for any one list, \\n    the items can be of different types. ... As we said above, the elements of a list don't have to be the same type.\""
      ]
     },
     "execution_count": 53,
     "metadata": {},
     "output_type": "execute_result"
    }
   ],
   "source": [
    "#12. Describe how list values and string values are identical.\n",
    "\n",
    "''' The values that make up a list are called its elements. Lists are similar to strings, which are ordered collections \n",
    "    of characters, except that the elements of a list can have any type and for any one list, \n",
    "    the items can be of different types. ... As we said above, the elements of a list don't have to be the same type.'''"
   ]
  },
  {
   "cell_type": "code",
   "execution_count": 54,
   "id": "86d3261b",
   "metadata": {},
   "outputs": [],
   "source": [
    "#13. What's the difference between tuples and lists?\n",
    "'''The key difference between the tuples and lists is that while the tuples are immutable objects the lists are mutable. \n",
    "    This means that tuples cannot be changed while the lists can be modified. Tuples are more memory efficient than the \n",
    "    lists'''\n",
    "\n",
    "#for example=\n",
    "list=[1,2,3,5,4,]\n",
    "tuple=(1,2,3,4,5)"
   ]
  },
  {
   "cell_type": "code",
   "execution_count": 58,
   "id": "729c8e37",
   "metadata": {},
   "outputs": [
    {
     "data": {
      "text/plain": [
       "42"
      ]
     },
     "execution_count": 58,
     "metadata": {},
     "output_type": "execute_result"
    }
   ],
   "source": [
    "#14. How do you type a tuple value that only contains the integer 42?\n",
    "t=(42)\n",
    "t"
   ]
  },
  {
   "cell_type": "code",
   "execution_count": 76,
   "id": "37840682",
   "metadata": {},
   "outputs": [],
   "source": [
    "#15. H15. How do you get a list value's tuple form? How do you get a tuple value's list form?\n",
    "#How do you get a list value's tuple form? How do you get a tuple value's list form?\n",
    "\n",
    "t=(4,5,6,7,8,9,10)\n",
    "l=[45,65,74,89,12,31,32,41]"
   ]
  },
  {
   "cell_type": "code",
   "execution_count": 77,
   "id": "7f8d5c6f",
   "metadata": {},
   "outputs": [],
   "source": [
    "#16. Variables that \"contain\" list values are not necessarily lists themselves. Instead, what do they contain?"
   ]
  },
  {
   "cell_type": "code",
   "execution_count": null,
   "id": "098ce937",
   "metadata": {},
   "outputs": [],
   "source": [
    "#17 17. How do you distinguish between copy.copy() and copy.deepcopy()?\n",
    "\n",
    "'''A shallow copy constructs a new compound object and then (to the extent possible) inserts references into it to \n",
    "the objects found in the original. A deep copy constructs a new compound object and then, recursively, inserts\n",
    "copies into it of the objects found in the original.'''\n",
    "\n",
    "'''# importing copy module\n",
    "import copy\n",
    "\n",
    "# initializing list 1\n",
    "li1 = [1, 2, [3,5], 4]\n",
    "\n",
    "\n",
    "# using copy for shallow copy\n",
    "li2 = copy.copy(li1)\n",
    "\n",
    "# using deepcopy for deepcopy\n",
    "li3 = copy.deepcopy(li1)\n",
    "'''\n",
    "\n",
    "'''In the above example, the change made in the list did not effect in other lists, indicating the list is deep copied.'''"
   ]
  }
 ],
 "metadata": {
  "kernelspec": {
   "display_name": "Python 3 (ipykernel)",
   "language": "python",
   "name": "python3"
  },
  "language_info": {
   "codemirror_mode": {
    "name": "ipython",
    "version": 3
   },
   "file_extension": ".py",
   "mimetype": "text/x-python",
   "name": "python",
   "nbconvert_exporter": "python",
   "pygments_lexer": "ipython3",
   "version": "3.9.7"
  }
 },
 "nbformat": 4,
 "nbformat_minor": 5
}
