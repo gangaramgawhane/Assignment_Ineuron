{
 "cells": [
  {
   "cell_type": "code",
   "execution_count": 1,
   "id": "f3fa36df",
   "metadata": {},
   "outputs": [],
   "source": [
    "#1. In the below elements which of them are values or an expression? \n",
    "#eg:- values can be integer or string and expressions will be mathematical operators.\n",
    "\n",
    "'''1. In the below elements which of them are values or an expression? eg:- values can be integer or string and expressions will be mathematical operators.\n",
    "* \n",
    "'hello'\n",
    "-87.8\n",
    "- \n",
    "/ \n",
    "+\t\n",
    "6 \n",
    "\n",
    "2. What is the difference between string and variable?\n",
    "\n",
    "3. Describe three different data types.\n",
    "\n",
    "4. What is an expression made up of? What do all expressions do?\n",
    "5. This assignment statements, like spam = 10. What is the difference between an expression and a statement?\n",
    "6. After running the following code, what does the variable bacon contain?\n",
    "bacon = 22\n",
    "bacon + 1\n",
    "\n",
    "7. What should the values of the following two terms be?\n",
    "'spam' + 'spamspam'\n",
    "'spam' * 3\n",
    "\n",
    "8. Why is eggs a valid variable name while 100 is invalid?\n",
    "9. What three functions can be used to get the integer, floating-point number, or string version of a value?\n",
    "10. Why does this expression cause an error? How can you fix it?\n",
    "'I have eaten ' + 99 + ' burritos.'\n",
    "\n",
    "'''"
   ]
  },
  {
   "cell_type": "code",
   "execution_count": 3,
   "id": "8e3214fb",
   "metadata": {},
   "outputs": [],
   "source": [
    "# Answer for Question 1\n",
    "\n",
    "'''* -- This is a expression and used in mathematical operation.\n",
    "'hello'-- this is a value and the type of this is string.\n",
    "-87.8-- this is a value and type of this is Float.\n",
    "-  This is expression and used in mathematical operation.\n",
    "/--This is expression and used in mathematical operation.\n",
    "+-- This is expression and used in mathematical operation.\n",
    "6-- this is Value and type of this value is Integer\n",
    "'''"
   ]
  },
  {
   "cell_type": "code",
   "execution_count": 9,
   "id": "01716b9c",
   "metadata": {},
   "outputs": [
    {
     "data": {
      "text/plain": [
       "42"
      ]
     },
     "execution_count": 9,
     "metadata": {},
     "output_type": "execute_result"
    }
   ],
   "source": [
    "6*7"
   ]
  },
  {
   "cell_type": "code",
   "execution_count": 12,
   "id": "955fd70e",
   "metadata": {},
   "outputs": [],
   "source": [
    "a= \"hello\""
   ]
  },
  {
   "cell_type": "code",
   "execution_count": 13,
   "id": "ee17e333",
   "metadata": {},
   "outputs": [
    {
     "data": {
      "text/plain": [
       "str"
      ]
     },
     "execution_count": 13,
     "metadata": {},
     "output_type": "execute_result"
    }
   ],
   "source": [
    "type(a)"
   ]
  },
  {
   "cell_type": "code",
   "execution_count": 17,
   "id": "257e466c",
   "metadata": {},
   "outputs": [
    {
     "name": "stdout",
     "output_type": "stream",
     "text": [
      "<class 'float'>\n"
     ]
    }
   ],
   "source": [
    "b=-87.8+8\n",
    "print(type(b))"
   ]
  },
  {
   "cell_type": "code",
   "execution_count": 18,
   "id": "aee6e5e3",
   "metadata": {},
   "outputs": [
    {
     "name": "stdout",
     "output_type": "stream",
     "text": [
      "<class 'int'>\n"
     ]
    }
   ],
   "source": [
    "c=786-104\n",
    "print(type(c))"
   ]
  },
  {
   "cell_type": "code",
   "execution_count": 39,
   "id": "669bb3b6",
   "metadata": {},
   "outputs": [
    {
     "name": "stdout",
     "output_type": "stream",
     "text": [
      "<class 'int'>\n"
     ]
    }
   ],
   "source": [
    "d=10/10\n",
    "e=int(d)\n",
    "print(type(e))\n",
    "# used typecasting to remove point 0 to convert to int from float "
   ]
  },
  {
   "cell_type": "code",
   "execution_count": 41,
   "id": "c0e2fc4a",
   "metadata": {},
   "outputs": [
    {
     "data": {
      "text/plain": [
       "int"
      ]
     },
     "execution_count": 41,
     "metadata": {},
     "output_type": "execute_result"
    }
   ],
   "source": [
    "f=500+470\n",
    "type(f)"
   ]
  },
  {
   "cell_type": "code",
   "execution_count": 42,
   "id": "bf0b8a39",
   "metadata": {},
   "outputs": [
    {
     "data": {
      "text/plain": [
       "int"
      ]
     },
     "execution_count": 42,
     "metadata": {},
     "output_type": "execute_result"
    }
   ],
   "source": [
    "g=6\n",
    "type(g)"
   ]
  },
  {
   "cell_type": "code",
   "execution_count": 43,
   "id": "cc2ad0af",
   "metadata": {},
   "outputs": [
    {
     "data": {
      "text/plain": [
       "'String is anything that we can assign to variable by using quotes. we can use single quote, \\n   double quote and triple quote also. for example if i write g= \"Gangaram\", then Gangaram is a string that can be stored\\n   in variable called g.\\n  and Variable can be called as an container in which we store a value. \\n  for example if i write a=56, then a is a variable that has value of 56. its just like \\'a\\' is a memory location for 56'"
      ]
     },
     "execution_count": 43,
     "metadata": {},
     "output_type": "execute_result"
    }
   ],
   "source": [
    "# Answer for Question 2\n",
    "#2. What is the difference between string and variable?\n",
    "\n",
    "\n",
    "'''String is anything that we can assign to variable by using quotes. we can use single quote, \n",
    "   double quote and triple quote also. for example if i write g= \"Gangaram\", then Gangaram is a string that can be stored\n",
    "   in variable called g.\n",
    "  and Variable can be called as an container in which we store a value. \n",
    "  for example if i write a=56, then a is a variable that has value of 56. its just like 'a' is a memory location for 56'''"
   ]
  },
  {
   "cell_type": "code",
   "execution_count": 49,
   "id": "4d81bdcb",
   "metadata": {},
   "outputs": [
    {
     "data": {
      "text/plain": [
       "'Data means any information we store in a variable. the information or data can be anything like Numbers, names, etc.\\n   this information is classified in different types to make use of the information effectively. there number of data types.\\n   types of data are as follows:\\n   \\n   1. String :- String is anything that we store in variable by using single quote, double quote or triple Quote. \\n    anything that has character and are inside the quote can be called as string. \\n    for example:\\n    a=\\'I am calm and kind person\\'\\n    b=\"I like to learn data science\"\\n    Here a is a variable inside we stored a string (I am calm and kind person)\\n    \\n    2. Integer :- interger is basically a numeric values and which are not inside quote. \\n       for example:\\n       23,45,12\\n       a=897560\\n       etc. \\n    \\n    3. Boolion :- Boolian means the data type that campares the values with each other or with any other value.\\n       Statement like True, False, etc are boolian. the data type that has two possible values based on some logic.\\n       for example- \\n        5>10 -- here 5 is not greater than 10 so it will return result as \\'False\\'\\n        10<20-- here 10 is lesser than 20 so it will return result as \\'True\\'\\n       \\n   '"
      ]
     },
     "execution_count": 49,
     "metadata": {},
     "output_type": "execute_result"
    }
   ],
   "source": [
    "#3. Describe three different data types.\n",
    "'''Data means any information we store in a variable. the information or data can be anything like Numbers, names, etc.\n",
    "   this information is classified in different types to make use of the information effectively. there number of data types.\n",
    "   types of data are as follows:\n",
    "   \n",
    "   1. String :- String is anything that we store in variable by using single quote, double quote or triple Quote. \n",
    "    anything that has character and are inside the quote can be called as string. \n",
    "    for example:\n",
    "    a='I am calm and kind person'\n",
    "    b=\"I like to learn data science\"\n",
    "    Here a is a variable inside we stored a string (I am calm and kind person)\n",
    "    \n",
    "    2. Integer :- interger is basically a numeric values and which are not inside quote. \n",
    "       for example:\n",
    "       23,45,12\n",
    "       a=897560\n",
    "       etc. \n",
    "    \n",
    "    3. Boolion :- Boolian means the data type that campares the values with each other or with any other value.\n",
    "       Statement like True, False, etc are boolian. the data type that has two possible values based on some logic.\n",
    "       for example- \n",
    "        5>10 -- here 5 is not greater than 10 so it will return result as 'False'\n",
    "        10<20-- here 10 is lesser than 20 so it will return result as 'True'\n",
    "       \n",
    "   '''"
   ]
  },
  {
   "cell_type": "code",
   "execution_count": 48,
   "id": "25a60f13",
   "metadata": {},
   "outputs": [
    {
     "data": {
      "text/plain": [
       "bool"
      ]
     },
     "execution_count": 48,
     "metadata": {},
     "output_type": "execute_result"
    }
   ],
   "source": [
    "#4. What is an expression made up of? What do all expressions do?"
   ]
  },
  {
   "cell_type": "code",
   "execution_count": 50,
   "id": "13bf5701",
   "metadata": {},
   "outputs": [
    {
     "data": {
      "text/plain": [
       "'An expression is made up of of values, variables, operators, and calls to functions. \\n   Expressions need to be evaluated. If you ask Python to print an expression, the interpreter evaluates the expression and\\n   displays the result.\\n   Expressions need to be evaluated. If you ask Python to print an expression, the interpreter evaluates the expression and displays the result.\\n   expressions can appear on the right hand side of assignment statements.\\n   A value all by itself is a simple expression, and so is a variable. Evaluating a variable gives the value that the variable refers to.'"
      ]
     },
     "execution_count": 50,
     "metadata": {},
     "output_type": "execute_result"
    }
   ],
   "source": [
    "#4. What is an expression made up of? What do all expressions do?\n",
    "'''An expression is made up of of values, variables, operators, and calls to functions. \n",
    "   Expressions need to be evaluated. If you ask Python to print an expression, the interpreter evaluates the expression and\n",
    "   displays the result.\n",
    "   Expressions need to be evaluated. If you ask Python to print an expression, the interpreter evaluates the expression and displays the result.\n",
    "   expressions can appear on the right hand side of assignment statements.\n",
    "   A value all by itself is a simple expression, and so is a variable. Evaluating a variable gives the value that the variable refers to.'''"
   ]
  },
  {
   "cell_type": "code",
   "execution_count": 4,
   "id": "36b0bb28",
   "metadata": {},
   "outputs": [
    {
     "data": {
      "text/plain": [
       "10"
      ]
     },
     "execution_count": 4,
     "metadata": {},
     "output_type": "execute_result"
    }
   ],
   "source": [
    "#5. This assignment statements, like spam = 10. What is the difference between an expression and a statement?\n",
    "spam=10\n",
    "'''statement means an action or command to perform particular operation. example print statement , assignment statement. \n",
    "in above example we have assigned 10 in variable called spam. statement means we are asking python to do something\n",
    "\n",
    "expression is a combination of variable , operation and value that yeild a result value \n",
    "the above given example is a expression '''"
   ]
  },
  {
   "cell_type": "code",
   "execution_count": 5,
   "id": "0589bc67",
   "metadata": {},
   "outputs": [
    {
     "data": {
      "text/plain": [
       "23"
      ]
     },
     "execution_count": 5,
     "metadata": {},
     "output_type": "execute_result"
    }
   ],
   "source": [
    "#6. After running the following code, what does the variable bacon contain?\n",
    "#bacon = 22\n",
    "#bacon + 1\n",
    "bacon = 22\n",
    "bacon + 1\n",
    "\n",
    "#the variable bacon contain the value i.e. 23"
   ]
  },
  {
   "cell_type": "code",
   "execution_count": null,
   "id": "e948fe6f",
   "metadata": {},
   "outputs": [],
   "source": [
    "#7. What should the values of the following two terms be?\n",
    "'spam' + 'spamspam'\n",
    "'spam' * 3"
   ]
  },
  {
   "cell_type": "code",
   "execution_count": 11,
   "id": "801f941b",
   "metadata": {},
   "outputs": [
    {
     "ename": "SyntaxError",
     "evalue": "cannot assign to literal (Temp/ipykernel_4204/1667706761.py, line 9)",
     "output_type": "error",
     "traceback": [
      "\u001b[1;36m  File \u001b[1;32m\"C:\\Users\\Ganga\\AppData\\Local\\Temp/ipykernel_4204/1667706761.py\"\u001b[1;36m, line \u001b[1;32m9\u001b[0m\n\u001b[1;33m    100=egg\u001b[0m\n\u001b[1;37m    ^\u001b[0m\n\u001b[1;31mSyntaxError\u001b[0m\u001b[1;31m:\u001b[0m cannot assign to literal\n"
     ]
    }
   ],
   "source": [
    "#8. Why is eggs a valid variable name while 100 is invalid?\n",
    "\n",
    "'''The variable is a name which is used to fere memory location. variable name can be a both name and group of name and digit. \n",
    "only integer value cannot be a name for a variable. number can be used for variable name but we must add some character or _ before number'\n",
    "\n",
    "so here egg is a string and it can be use as a name of variable. if we try to give 100 as a variable name \n",
    "then it will throw an error -cannot assign to literal'''\n",
    "\n",
    "100=egg\n",
    "100"
   ]
  },
  {
   "cell_type": "code",
   "execution_count": null,
   "id": "6ec0b396",
   "metadata": {},
   "outputs": [],
   "source": [
    "#9. What three functions can be used to get the integer, floating-point number, or string version of a value?\n",
    "\n",
    "we can use int(), float() and str()"
   ]
  },
  {
   "cell_type": "code",
   "execution_count": 3,
   "id": "88445d07",
   "metadata": {},
   "outputs": [
    {
     "data": {
      "text/plain": [
       "'I have eaten 99 burritos.'"
      ]
     },
     "execution_count": 3,
     "metadata": {},
     "output_type": "execute_result"
    }
   ],
   "source": [
    "#10. Why does this expression cause an error? How can you fix it? 'I have eaten ' + 99 + ' burritos.'\n",
    "#'I have eaten ' + 99 + ' burritos.'\n",
    "'''the expresion is giving error i.e., -can only concatenate str (not \"int\") to str\n",
    "    this means in python we can use + sign as an expression to concatenate string. \n",
    "    but in the given situation 99 is an integer. so the concatenate is not possible of string and Interger together\n",
    "    \n",
    "    Here to solve this error we need to make 99 from integer to string by simply putting it into single or double quote\n",
    "    in this way it can work'''\n",
    "'I have eaten ' + \"99\" + ' burritos.'"
   ]
  },
  {
   "cell_type": "code",
   "execution_count": null,
   "id": "c1b963a7",
   "metadata": {},
   "outputs": [],
   "source": []
  }
 ],
 "metadata": {
  "kernelspec": {
   "display_name": "Python 3 (ipykernel)",
   "language": "python",
   "name": "python3"
  },
  "language_info": {
   "codemirror_mode": {
    "name": "ipython",
    "version": 3
   },
   "file_extension": ".py",
   "mimetype": "text/x-python",
   "name": "python",
   "nbconvert_exporter": "python",
   "pygments_lexer": "ipython3",
   "version": "3.9.7"
  }
 },
 "nbformat": 4,
 "nbformat_minor": 5
}
