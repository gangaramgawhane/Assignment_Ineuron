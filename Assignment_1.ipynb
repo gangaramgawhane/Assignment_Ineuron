{
 "cells": [
  {
   "cell_type": "code",
   "execution_count": 1,
   "id": "0169e7d4",
   "metadata": {},
   "outputs": [
    {
     "data": {
      "text/plain": [
       "'Pythone is a object oriented programming language. it allows us to develop appliction using OOP\\n    in pythone we can easily create classes and objects.  \\n    It aims to implement real-world entities like inheritance, polymorphisms, encapsulation, etc. in the programming.\\n    Object-oriented programming is a programming paradigm that provides a means of structuring programs so that properties and behaviors are bundled into individual objects.\\n    For instance, an object could represent a person with properties like a name, age, and address and behaviors such \\n    as walking, talking, breathing, and running. Or it could represent an email with properties like a recipient list, \\n    subject, and body and behaviors like adding attachments and sending.\\n    Put another way, object-oriented programming is an approach for modeling concrete, real-world things, like cars, \\n    as well as relations between things, like companies and employees, students and teachers, and so on.\\n    OOP models real-world entities as software objects that have some data associated with them and can\\n    perform certain functions.'"
      ]
     },
     "execution_count": 1,
     "metadata": {},
     "output_type": "execute_result"
    }
   ],
   "source": [
    "#Q1. What is the purpose of Python's OOP?\n",
    "'''Pythone is a object oriented programming language. it allows us to develop appliction using OOP\n",
    "    in pythone we can easily create classes and objects.  \n",
    "    It aims to implement real-world entities like inheritance, polymorphisms, encapsulation, etc. in the programming.\n",
    "    Object-oriented programming is a programming paradigm that provides a means of structuring programs so that properties and behaviors are bundled into individual objects.\n",
    "    For instance, an object could represent a person with properties like a name, age, and address and behaviors such \n",
    "    as walking, talking, breathing, and running. Or it could represent an email with properties like a recipient list, \n",
    "    subject, and body and behaviors like adding attachments and sending.\n",
    "    Put another way, object-oriented programming is an approach for modeling concrete, real-world things, like cars, \n",
    "    as well as relations between things, like companies and employees, students and teachers, and so on.\n",
    "    OOP models real-world entities as software objects that have some data associated with them and can\n",
    "    perform certain functions.'''"
   ]
  },
  {
   "cell_type": "code",
   "execution_count": 2,
   "id": "b5ff918e",
   "metadata": {},
   "outputs": [
    {
     "data": {
      "text/plain": [
       "'All of these objects are namespaces (packages of variables), and the inheritance search is simply a search of the tree\\n    from bottom to top looking for the lowest occurrence of an attribute name.\\nIn Python, inheritance happens when an object is qualified, and involves searching an attribute definition tree\\n    (one or more namespaces). ... attr where object is an instance or class object, Python searches the namespace tree at\\n    and above object , for the first attr it can find'"
      ]
     },
     "execution_count": 2,
     "metadata": {},
     "output_type": "execute_result"
    }
   ],
   "source": [
    "#Q2. Where does an inheritance search look for an attribute?\n",
    "'''All of these objects are namespaces (packages of variables), and the inheritance search is simply a search of the tree\n",
    "    from bottom to top looking for the lowest occurrence of an attribute name.\n",
    "In Python, inheritance happens when an object is qualified, and involves searching an attribute definition tree\n",
    "    (one or more namespaces). ... attr where object is an instance or class object, Python searches the namespace tree at\n",
    "    and above object , for the first attr it can find'''"
   ]
  },
  {
   "cell_type": "code",
   "execution_count": 3,
   "id": "8c2bd3ed",
   "metadata": {},
   "outputs": [
    {
     "data": {
      "text/plain": [
       "\"In simple words, Instance refers to the copy of the object at a particular time whereas object refers to \\n    the memory address of the class\\n    \\n    Object:\\n\\nIt is a generice term basically it is a Software bundle that has state(variables) and behaviour(methods)\\n\\nClass:\\n\\nA blue print(template) for an object instance-it's a unique object thing for example you create a object two times \\nwhat does that mean is yo have created two instances\""
      ]
     },
     "execution_count": 3,
     "metadata": {},
     "output_type": "execute_result"
    }
   ],
   "source": [
    "#Q3. How do you distinguish between a class object and an instance object\n",
    "'''In simple words, Instance refers to the copy of the object at a particular time whereas object refers to \n",
    "    the memory address of the class\n",
    "    \n",
    "    Object:\n",
    "\n",
    "It is a generice term basically it is a Software bundle that has state(variables) and behaviour(methods)\n",
    "\n",
    "Class:\n",
    "\n",
    "A blue print(template) for an object instance-it's a unique object thing for example you create a object two times \n",
    "what does that mean is yo have created two instances'''"
   ]
  },
  {
   "cell_type": "code",
   "execution_count": 4,
   "id": "5c0664e4",
   "metadata": {},
   "outputs": [
    {
     "data": {
      "text/plain": [
       "'The first argument of every class method, including init, is always a reference to the current instance of the class. \\n    By convention, this argument is always named self. In the init method, self refers to the newly created object; \\n    in other class methods, it refers to the instance whose method was called'"
      ]
     },
     "execution_count": 4,
     "metadata": {},
     "output_type": "execute_result"
    }
   ],
   "source": [
    "#Q4. What makes the first argument in a class’s method function special?\n",
    "'''The first argument of every class method, including init, is always a reference to the current instance of the class. \n",
    "    By convention, this argument is always named self. In the init method, self refers to the newly created object; \n",
    "    in other class methods, it refers to the instance whose method was called'''"
   ]
  },
  {
   "cell_type": "code",
   "execution_count": 5,
   "id": "80c28bba",
   "metadata": {},
   "outputs": [
    {
     "data": {
      "text/plain": [
       "\"The first argument of every class method, including init, is always a reference to the current instance of the class. \\n    By convention, this argument is always named self. In the init method, self refers to the newly created object; \\n    in other class methods, it refers to the instance whose method was called\\n    \\n    The __init__ function is called every time an object is created from a class. The __init__ method lets the class \\n    initialize the object's attributes and serves no other purpose. It is only used within classes\""
      ]
     },
     "execution_count": 5,
     "metadata": {},
     "output_type": "execute_result"
    }
   ],
   "source": [
    "#Q5. What is the purpose of the __init__ method?\n",
    "'''The first argument of every class method, including init, is always a reference to the current instance of the class. \n",
    "    By convention, this argument is always named self. In the init method, self refers to the newly created object; \n",
    "    in other class methods, it refers to the instance whose method was called\n",
    "    \n",
    "    The __init__ function is called every time an object is created from a class. The __init__ method lets the class \n",
    "    initialize the object's attributes and serves no other purpose. It is only used within classes'''"
   ]
  },
  {
   "cell_type": "code",
   "execution_count": 6,
   "id": "44b40279",
   "metadata": {},
   "outputs": [
    {
     "data": {
      "text/plain": [
       "\"The class statement creates a new class definition. The name of the class immediately follows the keyword class \\n    followed by a colon as follows −\\n    \\n    class ClassName:\\n   'Optional class documentation string'\\n   class_suite\\n   \\n   Example\\nFollowing is the example of a simple Python class\""
      ]
     },
     "execution_count": 6,
     "metadata": {},
     "output_type": "execute_result"
    }
   ],
   "source": [
    "#Q6. What is the process for creating a class instance?\n",
    "'''The class statement creates a new class definition. The name of the class immediately follows the keyword class \n",
    "    followed by a colon as follows −\n",
    "    \n",
    "    class ClassName:\n",
    "   'Optional class documentation string'\n",
    "   class_suite\n",
    "   \n",
    "   Example\n",
    "Following is the example of a simple Python class'''"
   ]
  },
  {
   "cell_type": "code",
   "execution_count": 9,
   "id": "e46e5f70",
   "metadata": {},
   "outputs": [],
   "source": [
    "class Employee:\n",
    "   'Common base class for all employees'\n",
    "   empCount = 0\n",
    "\n",
    "   def __init__(self, name, salary):\n",
    "      self.name = name\n",
    "      self.salary = salary\n",
    "      Employee.empCount += 1\n",
    "   \n",
    "   def displayCount(self):\n",
    "     print (\"Total Employee %d\" % Employee.empCount)\n",
    "\n",
    "   def displayEmployee(self):\n",
    "      print (\"Name : \", self.name,  \", Salary: \", self.salary)"
   ]
  },
  {
   "cell_type": "code",
   "execution_count": 10,
   "id": "dfe138af",
   "metadata": {},
   "outputs": [
    {
     "data": {
      "text/plain": [
       "\"The class statement creates a new class definition. The name of the class immediately follows the keyword class \\n    followed by a colon as follows −\\n    \\n    class ClassName:\\n   'Optional class documentation string'\\n   class_suite\\n   \\n   Example\\nFollowing is the example of a simple Python class\""
      ]
     },
     "execution_count": 10,
     "metadata": {},
     "output_type": "execute_result"
    }
   ],
   "source": [
    "#Q7. What is the process for creating a class?\n",
    "'''The class statement creates a new class definition. The name of the class immediately follows the keyword class \n",
    "    followed by a colon as follows −\n",
    "    \n",
    "    class ClassName:\n",
    "   'Optional class documentation string'\n",
    "   class_suite\n",
    "   \n",
    "   Example\n",
    "Following is the example of a simple Python class'''"
   ]
  },
  {
   "cell_type": "code",
   "execution_count": 11,
   "id": "a631d644",
   "metadata": {},
   "outputs": [],
   "source": [
    "#example of class--\n",
    "class Employee:\n",
    "   'Common base class for all employees'\n",
    "   empCount = 0\n",
    "\n",
    "   def __init__(self, name, salary):\n",
    "      self.name = name\n",
    "      self.salary = salary\n",
    "      Employee.empCount += 1\n",
    "   \n",
    "   def displayCount(self):\n",
    "     print (\"Total Employee %d\" % Employee.empCount)\n",
    "\n",
    "   def displayEmployee(self):\n",
    "      print (\"Name : \", self.name,  \", Salary: \", self.salary)"
   ]
  },
  {
   "cell_type": "code",
   "execution_count": null,
   "id": "e876a4ca",
   "metadata": {},
   "outputs": [],
   "source": [
    "#How would you define the superclasses of a class?\n",
    "'''A superclass is the class from which many subclasses can be created. The subclasses inherit the characteristics of a \n",
    "    superclass. The superclass is also known as the parent class or base class.'''"
   ]
  }
 ],
 "metadata": {
  "kernelspec": {
   "display_name": "Python 3 (ipykernel)",
   "language": "python",
   "name": "python3"
  },
  "language_info": {
   "codemirror_mode": {
    "name": "ipython",
    "version": 3
   },
   "file_extension": ".py",
   "mimetype": "text/x-python",
   "name": "python",
   "nbconvert_exporter": "python",
   "pygments_lexer": "ipython3",
   "version": "3.9.7"
  }
 },
 "nbformat": 4,
 "nbformat_minor": 5
}
