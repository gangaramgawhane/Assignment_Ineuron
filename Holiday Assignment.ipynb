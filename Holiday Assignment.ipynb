{
 "cells": [
  {
   "cell_type": "code",
   "execution_count": 1,
   "id": "874d56a5",
   "metadata": {},
   "outputs": [
    {
     "ename": "SyntaxError",
     "evalue": "invalid syntax (Temp/ipykernel_9496/2647251408.py, line 1)",
     "output_type": "error",
     "traceback": [
      "\u001b[1;36m  File \u001b[1;32m\"C:\\Users\\Ganga\\AppData\\Local\\Temp/ipykernel_9496/2647251408.py\"\u001b[1;36m, line \u001b[1;32m1\u001b[0m\n\u001b[1;33m    1 . you have to write a fun which will take string and return a len of\u001b[0m\n\u001b[1;37m            ^\u001b[0m\n\u001b[1;31mSyntaxError\u001b[0m\u001b[1;31m:\u001b[0m invalid syntax\n"
     ]
    }
   ],
   "source": [
    "1 . you have to write a fun which will take string and return a len of \n",
    "it without using a inbuilt fun len\n",
    "2 . write a fun which will be able to print an index of all premitive element which you will pass \n",
    "3 . Write a fun which will take input as a dict and give me out as a list of all the values \n",
    "even in case of 2 level nesting it should work . \n",
    "4 . write a fun which will take another function as an input and return me an output \n",
    "5. write a function whihc will take multiple list as a input and give me concatnation of all the element as \n",
    "and output \n",
    "6 . write a function which will be able to take a list as an input return an index of each element \n",
    "like a inbuilt index function but even if we have repetative element it should return index \n",
    "7 . Write a function which will whould return list of all the file name from a directory . \n",
    "8  . write a function which will be able to show your system configuration . \n",
    "9 . write a function which will be able to show date and time  . \n",
    "10 . write a function whihc will be able to read a image file and show it to you .\n",
    "11 . write a function which can read video file and play for you . \n",
    "12  . write a function whihc can move a file from one directory to another directory . \n",
    "13 . write a function which will be able to shutdonw your system . \n",
    "14 . write a function whihc will be able to access your mail . \n",
    "15 . write a func bywhcih i can send a mail to anyone \n",
    "16. write a func to read a complete PDf file . \n",
    "17. write a function to read a word file . \n",
    "18 . write a function which can help you to filter only word file from a directory . \n",
    "19 . write a function by which you can print an ip address of your system . \n",
    "20 . write a function by which you will be able to append two PDF files . "
   ]
  },
  {
   "cell_type": "code",
   "execution_count": 119,
   "id": "a9007f49",
   "metadata": {},
   "outputs": [],
   "source": [
    "# you have to write a fun which will take string and return a len of it without using a inbuilt fun len\n",
    "def testlen(a):\n",
    "    '''this function will help you to get the len of string without using inbuild len function'''\n",
    "    count=0\n",
    "    if type(a)==str:\n",
    "        for i in a:\n",
    "            count+=1\n",
    "    return count"
   ]
  },
  {
   "cell_type": "code",
   "execution_count": 120,
   "id": "854813e9",
   "metadata": {},
   "outputs": [
    {
     "data": {
      "text/plain": [
       "31"
      ]
     },
     "execution_count": 120,
     "metadata": {},
     "output_type": "execute_result"
    }
   ],
   "source": [
    "testlen(\"I will be Data scientist one da\")"
   ]
  },
  {
   "cell_type": "code",
   "execution_count": 67,
   "id": "5099302e",
   "metadata": {},
   "outputs": [
    {
     "name": "stdout",
     "output_type": "stream",
     "text": [
      "1234\n",
      "index for 1 is 0\n",
      "index for 2 is 1\n",
      "index for 3 is 2\n",
      "index for 4 is 3\n"
     ]
    },
    {
     "data": {
      "text/plain": [
       "3"
      ]
     },
     "execution_count": 67,
     "metadata": {},
     "output_type": "execute_result"
    }
   ],
   "source": [
    "eleindex()"
   ]
  },
  {
   "cell_type": "code",
   "execution_count": 70,
   "id": "732c5e2e",
   "metadata": {},
   "outputs": [],
   "source": [
    "#2 . write a fun which will be able to print an index of all premitive element which you will pass \n",
    "def eleindexa():\n",
    "    '''this function will be able to print an index of all permitive element\n",
    "        user just need to give an input and run the function'''\n",
    "    a=input()\n",
    "    if type(a)==str:\n",
    "        for i in a:\n",
    "            b=a.index(i)\n",
    "            print(\"index for\", i ,\"is\", b)\n",
    "    return b"
   ]
  },
  {
   "cell_type": "code",
   "execution_count": 72,
   "id": "99f9e06c",
   "metadata": {},
   "outputs": [
    {
     "name": "stdout",
     "output_type": "stream",
     "text": [
      "I love you\n",
      "index for I is 0\n",
      "index for   is 1\n",
      "index for l is 2\n",
      "index for o is 3\n",
      "index for v is 4\n",
      "index for e is 5\n",
      "index for   is 1\n",
      "index for y is 7\n",
      "index for o is 3\n",
      "index for u is 9\n"
     ]
    },
    {
     "data": {
      "text/plain": [
       "9"
      ]
     },
     "execution_count": 72,
     "metadata": {},
     "output_type": "execute_result"
    }
   ],
   "source": [
    "eleindexa()"
   ]
  },
  {
   "cell_type": "code",
   "execution_count": 18,
   "id": "014cc496",
   "metadata": {},
   "outputs": [],
   "source": [
    "#3 . Write a fun which will take input as a dict and give me out as a list of all the values even in case of 2 level nesting it should work \n",
    "def convertdictintolist(d):\n",
    "    l2=[]\n",
    "    if d==dict: \n",
    "        l=d.values()\n",
    "        l2=list(l)\n",
    "        print(l2)\n",
    "    return l2\n",
    "\n",
    "#not working"
   ]
  },
  {
   "cell_type": "code",
   "execution_count": 19,
   "id": "121e9808",
   "metadata": {},
   "outputs": [
    {
     "data": {
      "text/plain": [
       "[]"
      ]
     },
     "execution_count": 19,
     "metadata": {},
     "output_type": "execute_result"
    }
   ],
   "source": [
    "convertdictintolist({\"P\":748,\"o\":456,\"w\":789})"
   ]
  },
  {
   "cell_type": "code",
   "execution_count": 53,
   "id": "9c09e754",
   "metadata": {},
   "outputs": [],
   "source": [
    "#4 . write a fun which will take another function as an input and return me an output \n",
    "def inputfun(**abc):\n",
    "    '''this function will convert output from str to int and add the 2 input to make it sum\n",
    "        this function is also act as an input to outputfun()'''\n",
    "    abc=input(\"enter your first input \")\n",
    "    pqr=input(\"enter your second input \")\n",
    "    abcd=int(abc)\n",
    "    pqrs=int(pqr)\n",
    "    wsr=abcd+pqrs\n",
    "    return wsr\n",
    "#second fuc\n",
    "def outputfun():\n",
    "    '''this function will give you an average of 2 numbers'''\n",
    "    a=takeinput()/2\n",
    "    return a"
   ]
  },
  {
   "cell_type": "code",
   "execution_count": 54,
   "id": "3dffef72",
   "metadata": {},
   "outputs": [
    {
     "name": "stdout",
     "output_type": "stream",
     "text": [
      "enter your first input 78\n",
      "enter your second input 100\n"
     ]
    },
    {
     "data": {
      "text/plain": [
       "89.0"
      ]
     },
     "execution_count": 54,
     "metadata": {},
     "output_type": "execute_result"
    }
   ],
   "source": [
    "outputfun()"
   ]
  },
  {
   "cell_type": "code",
   "execution_count": 60,
   "id": "221e7802",
   "metadata": {},
   "outputs": [],
   "source": [
    "#5. write a function whihc will take multiple list as a input and give me concatnation of all the element as and output "
   ]
  },
  {
   "cell_type": "code",
   "execution_count": 53,
   "id": "db2dfcea",
   "metadata": {},
   "outputs": [],
   "source": [
    "def Mlist(*a):\n",
    "    '''this function will '''\n",
    "    a2=[]\n",
    "    a3=0\n",
    "    a4=[]\n",
    "    for i in a:\n",
    "        if type(i)==list:\n",
    "            a2.extend(i)\n",
    "    print(a2)\n",
    "    for i in a2:\n",
    "        a3+=i\n",
    "        a4.append(a3)\n",
    "    return max(a4)"
   ]
  },
  {
   "cell_type": "code",
   "execution_count": 58,
   "id": "6adb199b",
   "metadata": {},
   "outputs": [
    {
     "name": "stdout",
     "output_type": "stream",
     "text": [
      "[1, 2, 3, 4, 5, 6, 7, 9, 9, 10, 11, 12]\n"
     ]
    },
    {
     "data": {
      "text/plain": [
       "79"
      ]
     },
     "execution_count": 58,
     "metadata": {},
     "output_type": "execute_result"
    }
   ],
   "source": [
    "Mlist([1,2],[3,4],[5,6],[7,9,9,10,11,12])"
   ]
  },
  {
   "cell_type": "code",
   "execution_count": 83,
   "id": "b195786f",
   "metadata": {},
   "outputs": [],
   "source": [
    "#6 . write a function which will be able to take a list as an input return an index of each element like a \n",
    "#inbuilt index function but even if we have repetative element it should return index \n",
    "def listindex(*a):\n",
    "    \n",
    "    if type(a)==list:\n",
    "        for i in a:\n",
    "            a2=a.index(i)\n",
    "    return a2"
   ]
  },
  {
   "cell_type": "code",
   "execution_count": 81,
   "id": "093da134",
   "metadata": {},
   "outputs": [
    {
     "ename": "UnboundLocalError",
     "evalue": "local variable 'a2' referenced before assignment",
     "output_type": "error",
     "traceback": [
      "\u001b[1;31m---------------------------------------------------------------------------\u001b[0m",
      "\u001b[1;31mUnboundLocalError\u001b[0m                         Traceback (most recent call last)",
      "\u001b[1;32m~\\AppData\\Local\\Temp/ipykernel_3504/579586615.py\u001b[0m in \u001b[0;36m<module>\u001b[1;34m\u001b[0m\n\u001b[1;32m----> 1\u001b[1;33m \u001b[0mlistindex\u001b[0m\u001b[1;33m(\u001b[0m\u001b[1;33m[\u001b[0m\u001b[1;36m7\u001b[0m\u001b[1;33m,\u001b[0m\u001b[1;36m8\u001b[0m\u001b[1;33m,\u001b[0m\u001b[1;36m9\u001b[0m\u001b[1;33m]\u001b[0m\u001b[1;33m)\u001b[0m\u001b[1;33m\u001b[0m\u001b[1;33m\u001b[0m\u001b[0m\n\u001b[0m",
      "\u001b[1;32m~\\AppData\\Local\\Temp/ipykernel_3504/3374131612.py\u001b[0m in \u001b[0;36mlistindex\u001b[1;34m(*a)\u001b[0m\n\u001b[0;32m      5\u001b[0m         \u001b[1;32mfor\u001b[0m \u001b[0mi\u001b[0m \u001b[1;32min\u001b[0m \u001b[0ma\u001b[0m\u001b[1;33m:\u001b[0m\u001b[1;33m\u001b[0m\u001b[1;33m\u001b[0m\u001b[0m\n\u001b[0;32m      6\u001b[0m             \u001b[0ma2\u001b[0m\u001b[1;33m=\u001b[0m\u001b[0ma\u001b[0m\u001b[1;33m.\u001b[0m\u001b[0mindex\u001b[0m\u001b[1;33m(\u001b[0m\u001b[0mi\u001b[0m\u001b[1;33m)\u001b[0m\u001b[1;33m\u001b[0m\u001b[1;33m\u001b[0m\u001b[0m\n\u001b[1;32m----> 7\u001b[1;33m     \u001b[1;32mreturn\u001b[0m \u001b[0ma2\u001b[0m\u001b[1;33m\u001b[0m\u001b[1;33m\u001b[0m\u001b[0m\n\u001b[0m",
      "\u001b[1;31mUnboundLocalError\u001b[0m: local variable 'a2' referenced before assignment"
     ]
    }
   ],
   "source": [
    "listindex([7,8,9])"
   ]
  }
 ],
 "metadata": {
  "kernelspec": {
   "display_name": "Python 3 (ipykernel)",
   "language": "python",
   "name": "python3"
  },
  "language_info": {
   "codemirror_mode": {
    "name": "ipython",
    "version": 3
   },
   "file_extension": ".py",
   "mimetype": "text/x-python",
   "name": "python",
   "nbconvert_exporter": "python",
   "pygments_lexer": "ipython3",
   "version": "3.9.7"
  }
 },
 "nbformat": 4,
 "nbformat_minor": 5
}
