{
 "cells": [
  {
   "cell_type": "markdown",
   "id": "e3341a40",
   "metadata": {},
   "source": [
    "#1. What does an empty dictionary's code look like?\n",
    "\n",
    "\n",
    "'''To create an empty dictionary, the dictionary should be set to {}. This is shown in the code below. So,\n",
    "with this code above, we create a dictionary called items which is set equal to {}. So this dictionary named items is empty.'''"
   ]
  },
  {
   "cell_type": "code",
   "execution_count": 5,
   "id": "b2b4bc3f",
   "metadata": {},
   "outputs": [
    {
     "data": {
      "text/plain": [
       "\"this value with 'foo'  is 42 \""
      ]
     },
     "execution_count": 5,
     "metadata": {},
     "output_type": "execute_result"
    }
   ],
   "source": [
    "#2. What is the value of a dictionary value with the key 'foo' and the value 42?\n",
    "\n",
    "d={\"foo\":42}\n",
    "d.values()\n",
    "\n",
    "'''this value with 'foo'  is 42 '''"
   ]
  },
  {
   "cell_type": "markdown",
   "id": "01b80d23",
   "metadata": {},
   "source": [
    "#3. What is the most significant distinction between a dictionary and a list?\n",
    "\n",
    "\n",
    "\n",
    "---'''A list is an ordered sequence of objects, whereas dictionaries are unordered sets. However, the main difference \n",
    "    is that items in dictionaries are accessed via keys and not via their position.\n",
    "    Dictionaries don't support the sequence operation of the sequence data types like strings, tuples and lists.'''\n",
    "\n",
    "'''Dictionary is basically a key value pair based data. see below two example of list and Dictionary'''\n",
    "\n",
    "l=[1,2,3,4,5,6]\n",
    "d={\"a\":10,\"b\":20,\"c\":40}"
   ]
  },
  {
   "cell_type": "code",
   "execution_count": 9,
   "id": "b05fece9",
   "metadata": {},
   "outputs": [
    {
     "ename": "KeyError",
     "evalue": "'foo'",
     "output_type": "error",
     "traceback": [
      "\u001b[1;31m---------------------------------------------------------------------------\u001b[0m",
      "\u001b[1;31mKeyError\u001b[0m                                  Traceback (most recent call last)",
      "\u001b[1;32m~\\AppData\\Local\\Temp/ipykernel_12384/2761858152.py\u001b[0m in \u001b[0;36m<module>\u001b[1;34m\u001b[0m\n\u001b[0;32m      2\u001b[0m \u001b[1;33m\u001b[0m\u001b[0m\n\u001b[0;32m      3\u001b[0m \u001b[0mSpam\u001b[0m\u001b[1;33m=\u001b[0m\u001b[1;33m{\u001b[0m\u001b[1;34m'bar'\u001b[0m\u001b[1;33m:\u001b[0m \u001b[1;36m100\u001b[0m\u001b[1;33m}\u001b[0m\u001b[1;33m\u001b[0m\u001b[1;33m\u001b[0m\u001b[0m\n\u001b[1;32m----> 4\u001b[1;33m \u001b[0mSpam\u001b[0m\u001b[1;33m[\u001b[0m\u001b[1;34m'foo'\u001b[0m\u001b[1;33m]\u001b[0m\u001b[1;33m\u001b[0m\u001b[1;33m\u001b[0m\u001b[0m\n\u001b[0m\u001b[0;32m      5\u001b[0m \u001b[1;33m\u001b[0m\u001b[0m\n\u001b[0;32m      6\u001b[0m \u001b[1;34m'''this will give an below error saying- NameError: name 'foo' is not defined. here foo is not there as a value or as a key in dictionary'''\u001b[0m\u001b[1;33m\u001b[0m\u001b[1;33m\u001b[0m\u001b[0m\n",
      "\u001b[1;31mKeyError\u001b[0m: 'foo'"
     ]
    }
   ],
   "source": [
    "#4. What happens if you try to access spam['foo'] if spam is {'bar': 100}?\n",
    "\n",
    "Spam={'bar': 100}\n",
    "Spam['foo']\n",
    "\n",
    "'''this will give an below error saying- NameError: name 'foo' is not defined. here foo is not there as a value or as a key in dictionary'''\n",
    "Spam['foo']"
   ]
  },
  {
   "cell_type": "markdown",
   "id": "9434e6dc",
   "metadata": {},
   "source": [
    "#5. If a dictionary is stored in spam, what is the difference between the expressions 'cat' in spam and \n",
    "#'cat' in spam.keys()?\n",
    "\n",
    "\n",
    "\n",
    "'''There is no difference. The in operator checks whether a value exists as a key in the dictionary. 'cat' in spam \n",
    "    checks whether there is a 'cat' key in the dictionary, while 'cat' in spam. values() checks whether there is a \n",
    "    value 'cat' for one of the keys in spam '''"
   ]
  },
  {
   "cell_type": "markdown",
   "id": "2a943d14",
   "metadata": {},
   "source": [
    "#6. If a dictionary is stored in spam, what is the difference between the expressions 'cat' in spam and 'cat' in spam.values()?\n",
    "\n",
    "\n",
    "\n",
    "\n",
    "'''There is no difference. The in operator checks whether a value exists as a key in the dictionary.\n",
    "    'cat' in spam checks whether there is a 'cat' key in the dictionary, while 'cat' in spam. values() \n",
    "    checks whether there is a value 'cat' for one of the keys in spam'''"
   ]
  },
  {
   "cell_type": "code",
   "execution_count": 12,
   "id": "67fbcde3",
   "metadata": {},
   "outputs": [],
   "source": [
    "#  7. What is a shortcut for the following code?\n",
    "#if 'color' not in spam:\n",
    "#spam['color'] = 'black'\n",
    "\n"
   ]
  },
  {
   "cell_type": "code",
   "execution_count": null,
   "id": "2e176958",
   "metadata": {},
   "outputs": [],
   "source": [
    "#8. How do you \"pretty print\" dictionary values using which module and function?\n",
    "'''pprint is a Python module that provides the capability to pretty print Python data types to be more readable.\n",
    "    This module also supports pretty-printing dictionary. Within the pprint module there is a function with the same \n",
    "        name pprint() , which is the function used to pretty-print the given string or object.'''"
   ]
  }
 ],
 "metadata": {
  "kernelspec": {
   "display_name": "Python 3 (ipykernel)",
   "language": "python",
   "name": "python3"
  },
  "language_info": {
   "codemirror_mode": {
    "name": "ipython",
    "version": 3
   },
   "file_extension": ".py",
   "mimetype": "text/x-python",
   "name": "python",
   "nbconvert_exporter": "python",
   "pygments_lexer": "ipython3",
   "version": "3.9.7"
  }
 },
 "nbformat": 4,
 "nbformat_minor": 5
}
