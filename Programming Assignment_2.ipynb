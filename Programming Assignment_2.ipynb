{
 "cells": [
  {
   "cell_type": "code",
   "execution_count": 11,
   "id": "10113fad",
   "metadata": {},
   "outputs": [
    {
     "name": "stdout",
     "output_type": "stream",
     "text": [
      "Enter your kilometres value here 500\n",
      "310.75201988812927 Miles\n"
     ]
    }
   ],
   "source": [
    "#1.\tWrite a Python program to convert kilometres to miles?\n",
    "#Formula--divide the length value by 1.609\n",
    "Kmvalue=int(input(\"Enter your kilometres value here \"))\n",
    "Mlvalue=Kmvalue/1.609\n",
    "print(Mlvalue ,\"Miles\")"
   ]
  },
  {
   "cell_type": "code",
   "execution_count": 15,
   "id": "19645cf4",
   "metadata": {},
   "outputs": [
    {
     "name": "stdout",
     "output_type": "stream",
     "text": [
      "Enter your temprature in C here 20\n",
      "68.0 f\n"
     ]
    }
   ],
   "source": [
    "#2.\tWrite a Python program to convert Celsius to Fahrenheit?\n",
    "#Formula--(0°C × 9/5) + 32 = 32°F\n",
    "\n",
    "a=int(input(\"Enter your temprature in C here \"))\n",
    "b=(a*9/5)+32\n",
    "print(b, \"f\")"
   ]
  },
  {
   "cell_type": "code",
   "execution_count": 22,
   "id": "5ec96b96",
   "metadata": {},
   "outputs": [
    {
     "name": "stdout",
     "output_type": "stream",
     "text": [
      "Enter year: 2022\n",
      "Enter month: 1\n",
      "    January 2022\n",
      "Mo Tu We Th Fr Sa Su\n",
      "                1  2\n",
      " 3  4  5  6  7  8  9\n",
      "10 11 12 13 14 15 16\n",
      "17 18 19 20 21 22 23\n",
      "24 25 26 27 28 29 30\n",
      "31\n",
      "\n"
     ]
    }
   ],
   "source": [
    "#3.\tWrite a Python program to display calendar?\n",
    "\n",
    "import calendar\n",
    "yy = int(input(\"Enter year: \"))\n",
    "mm = int(input(\"Enter month: \"))\n",
    "print(calendar.month(yy,mm))"
   ]
  },
  {
   "cell_type": "code",
   "execution_count": 3,
   "id": "d022c75a",
   "metadata": {},
   "outputs": [
    {
     "name": "stdout",
     "output_type": "stream",
     "text": [
      "enter the value of a here 6\n",
      "enter the value of b here 8\n",
      "enter the value of c here 1\n",
      "the solution are (-1.1937129433613967+0j) and (-0.13962038997193674+0j)\n"
     ]
    }
   ],
   "source": [
    "import cmath\n",
    "a=int(input(\"enter the value of a here \"))\n",
    "b=int(input(\"enter the value of b here \"))\n",
    "c=int(input(\"enter the value of c here \"))\n",
    "d=(b**2)-(4*a*c)\n",
    "Sol1=(-b-cmath.sqrt(d))/(2*a)\n",
    "Sol2=(-b+cmath.sqrt(d))/(2*a)\n",
    "print('the solution are {0} and {1}'.format(Sol1,Sol2))"
   ]
  },
  {
   "cell_type": "code",
   "execution_count": 4,
   "id": "0236a85a",
   "metadata": {},
   "outputs": [],
   "source": [
    "#5.\tWrite a Python program to swap two variables without temp variable?\n",
    "\n",
    "a=10\n",
    "b=20\n",
    "a,b=b,a"
   ]
  },
  {
   "cell_type": "code",
   "execution_count": 5,
   "id": "76ce97b3",
   "metadata": {},
   "outputs": [
    {
     "data": {
      "text/plain": [
       "20"
      ]
     },
     "execution_count": 5,
     "metadata": {},
     "output_type": "execute_result"
    }
   ],
   "source": [
    "a"
   ]
  },
  {
   "cell_type": "code",
   "execution_count": 6,
   "id": "3a5612c5",
   "metadata": {},
   "outputs": [
    {
     "data": {
      "text/plain": [
       "10"
      ]
     },
     "execution_count": 6,
     "metadata": {},
     "output_type": "execute_result"
    }
   ],
   "source": [
    "b"
   ]
  },
  {
   "cell_type": "code",
   "execution_count": null,
   "id": "1e5a475a",
   "metadata": {},
   "outputs": [],
   "source": []
  }
 ],
 "metadata": {
  "kernelspec": {
   "display_name": "Python 3 (ipykernel)",
   "language": "python",
   "name": "python3"
  },
  "language_info": {
   "codemirror_mode": {
    "name": "ipython",
    "version": 3
   },
   "file_extension": ".py",
   "mimetype": "text/x-python",
   "name": "python",
   "nbconvert_exporter": "python",
   "pygments_lexer": "ipython3",
   "version": "3.9.7"
  }
 },
 "nbformat": 4,
 "nbformat_minor": 5
}
