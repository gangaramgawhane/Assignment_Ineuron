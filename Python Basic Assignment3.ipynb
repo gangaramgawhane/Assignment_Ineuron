{
 "cells": [
  {
   "cell_type": "code",
   "execution_count": 1,
   "id": "93652c30",
   "metadata": {},
   "outputs": [
    {
     "data": {
      "text/plain": [
       "'A function is a block of reusable code that is used to perform a specific action. \\n    it A function is a block of reusable code that is used to perform a specific action\\n    \\n    the advantages of functions in python are as follows:\\n    \\n    Reducing duplication of code\\n    Decomposing complex problems into simpler pieces\\n    Improving clarity of the code\\n    Reuse of code\\n    Information hiding\\n    \\n    Functions can be assigned to variables, stored in collections, or passed as arguments.\\n    This brings additional flexibility to the language'"
      ]
     },
     "execution_count": 1,
     "metadata": {},
     "output_type": "execute_result"
    }
   ],
   "source": [
    "#1. Why are functions advantageous to have in your programs?\n",
    "'''A function is a block of reusable code that is used to perform a specific action. \n",
    "    it A function is a block of reusable code that is used to perform a specific action\n",
    "    \n",
    "    the advantages of functions in python are as follows:\n",
    "    \n",
    "    Reducing duplication of code\n",
    "    Decomposing complex problems into simpler pieces\n",
    "    Improving clarity of the code\n",
    "    Reuse of code\n",
    "    Information hiding\n",
    "    \n",
    "    Functions can be assigned to variables, stored in collections, or passed as arguments.\n",
    "    This brings additional flexibility to the language'''"
   ]
  },
  {
   "cell_type": "code",
   "execution_count": 2,
   "id": "e3bef3e8",
   "metadata": {},
   "outputs": [
    {
     "data": {
      "text/plain": [
       "'Defining a function gives it a name, specifies the parameters that are to be included in the \\nfunction and structures the blocks of code.\\n\\nbut it will run only when it is called. \\n\\nthis is one of the rule of function that it is executed by calling it only'"
      ]
     },
     "execution_count": 2,
     "metadata": {},
     "output_type": "execute_result"
    }
   ],
   "source": [
    "#2. When does the code in a function run: when it's specified or when it's called?\n",
    "'''Defining a function gives it a name, specifies the parameters that are to be included in the \n",
    "function and structures the blocks of code.\n",
    "\n",
    "but it will run only when it is called. \n",
    "\n",
    "this is one of the rule of function that it is executed by calling it only'''"
   ]
  },
  {
   "cell_type": "code",
   "execution_count": 10,
   "id": "8992e1ec",
   "metadata": {},
   "outputs": [],
   "source": [
    "#3. What statement creates a function?\n",
    "'''Function blocks begin with the keyword def followed by the function name and \n",
    "parentheses ( ( ) )\n",
    "\n",
    "Function blocks begin with the keyword def followed by the function name and \n",
    "parentheses ( ( ) )\n",
    "\n",
    "The code block within every function starts with a colon (:) and is indented.\n",
    "\n",
    "The statement return [expression] exits a function'''\n",
    "\n",
    "#for example-\n",
    "\n",
    "def functionname( a):\n",
    "    a=range(a,a*10,a)\n",
    "    return a"
   ]
  },
  {
   "cell_type": "code",
   "execution_count": 11,
   "id": "01241eb8",
   "metadata": {},
   "outputs": [
    {
     "data": {
      "text/plain": [
       "range(5, 50, 5)"
      ]
     },
     "execution_count": 11,
     "metadata": {},
     "output_type": "execute_result"
    }
   ],
   "source": [
    "functionname(5)"
   ]
  },
  {
   "cell_type": "code",
   "execution_count": 14,
   "id": "2ece4a84",
   "metadata": {},
   "outputs": [
    {
     "data": {
      "text/plain": [
       "11"
      ]
     },
     "execution_count": 14,
     "metadata": {},
     "output_type": "execute_result"
    }
   ],
   "source": [
    "#4. What is the difference between a function and a function call?\n",
    "'''A function is a block of code that does particular task or operation and returns the expected result. in function \n",
    "    user saves a code that can be reuse again and again\n",
    "    for example'''\n",
    "\n",
    "def test(a,b):\n",
    "    return a+b\n",
    "#in the above we created a function but it wont be executed after run.we need to call it to execute the above function. \n",
    "# see below example-\n",
    "\n",
    "test(5,6)\n",
    "\n",
    "'''so the function call means we call that function to execute the operation.'''"
   ]
  },
  {
   "cell_type": "code",
   "execution_count": 2,
   "id": "9b3625a9",
   "metadata": {},
   "outputs": [],
   "source": [
    "#5.How many global scopes are there in a Python program? How many local scopes?\n",
    "gfun=0\n",
    "def lfun(a,b,c):\n",
    "    a1=a+b+c\n",
    "    return a1"
   ]
  },
  {
   "cell_type": "code",
   "execution_count": 3,
   "id": "e89d95a1",
   "metadata": {},
   "outputs": [
    {
     "data": {
      "text/plain": [
       "(0, 24)"
      ]
     },
     "execution_count": 3,
     "metadata": {},
     "output_type": "execute_result"
    }
   ],
   "source": [
    "gfun,lfun(9,7,8)"
   ]
  },
  {
   "cell_type": "code",
   "execution_count": 1,
   "id": "b8af00f3",
   "metadata": {},
   "outputs": [
    {
     "data": {
      "text/plain": [
       "'When the execution of the function returns, the local variables are destroyed.\\n    Codelens helps you visualize this because the local variables disappear after the function returns.'"
      ]
     },
     "execution_count": 1,
     "metadata": {},
     "output_type": "execute_result"
    }
   ],
   "source": [
    "#6. 6. What happens to variables in a local scope when the function call returns?\n",
    "'''When the execution of the function returns, the local variables are destroyed.\n",
    "    Codelens helps you visualize this because the local variables disappear after the function returns.'''"
   ]
  },
  {
   "cell_type": "code",
   "execution_count": 2,
   "id": "8e037333",
   "metadata": {},
   "outputs": [
    {
     "data": {
      "text/plain": [
       "'yes it is possible to return value in an expression'"
      ]
     },
     "execution_count": 2,
     "metadata": {},
     "output_type": "execute_result"
    }
   ],
   "source": [
    "#7 What is the concept of a return value? Is it possible to have a return value in an expression?\n",
    "'''A return is a value that a function returns to the calling script or function when it completes its task. \n",
    "A return value can be any one of the four variable types: handle, integer, object, or string. \n",
    "    The type of value your function returns depends largely on the task it performs.'''\n",
    "'''yes it is possible to return value in an expression'''"
   ]
  },
  {
   "cell_type": "code",
   "execution_count": 3,
   "id": "34028c7b",
   "metadata": {},
   "outputs": [
    {
     "data": {
      "text/plain": [
       "'If expression is omitted, the return value of the function is undefined. If no return statement appears in a function\\n    definition, control automatically returns to the calling function after the last statement of the called function \\n    is executed. In this case, the return value of the called function is undefined'"
      ]
     },
     "execution_count": 3,
     "metadata": {},
     "output_type": "execute_result"
    }
   ],
   "source": [
    "#8. If a function does not have a return statement, what is the return value of a call to that function?\n",
    "\n",
    "'''If expression is omitted, the return value of the function is undefined. If no return statement appears in a function\n",
    "    definition, control automatically returns to the calling function after the last statement of the called function \n",
    "    is executed. In this case, the return value of the called function is undefined'''"
   ]
  },
  {
   "cell_type": "code",
   "execution_count": 9,
   "id": "8945a7d0",
   "metadata": {},
   "outputs": [],
   "source": [
    "#9. How do you make a function variable refer to the global variable?\n",
    "\n",
    "'''If you want to refer to a global variable in a function, you can use the global keyword to declare which \n",
    "    variables are global.\n",
    "    if the name referenced in an expression cannot be found in local scope or scopes in the functions in which this\n",
    "    function is defined, it is looked up among global variables. However, if you assign to a new variable not declared \n",
    "    as global in the function, it is implicitly declared as local, and it can overshadow any existing global \n",
    "    variable with the same name'''\n",
    "\n",
    "def use_global_variable():\n",
    "    return global_variable + 'Ganga'"
   ]
  },
  {
   "cell_type": "code",
   "execution_count": 10,
   "id": "49699a61",
   "metadata": {},
   "outputs": [
    {
     "data": {
      "text/plain": [
       "'The None keyword is used to define a null value, or no value at all. None is not the same as 0, False, or an \\n    empty string. None is a data type of its own (NoneType) and only None can be None.'"
      ]
     },
     "execution_count": 10,
     "metadata": {},
     "output_type": "execute_result"
    }
   ],
   "source": [
    "#10. What is the data type of None?\n",
    "'''The None keyword is used to define a null value, or no value at all. None is not the same as 0, False, or an \n",
    "    empty string. None is a data type of its own (NoneType) and only None can be None.'''"
   ]
  },
  {
   "cell_type": "code",
   "execution_count": 11,
   "id": "8d015a05",
   "metadata": {},
   "outputs": [
    {
     "data": {
      "text/plain": [
       "'This function can be called with spam. bacon()'"
      ]
     },
     "execution_count": 11,
     "metadata": {},
     "output_type": "execute_result"
    }
   ],
   "source": [
    "# 12. If you had a bacon() feature in a spam module, what would you call it after importing spam?\n",
    "\n",
    "'''This function can be called with spam. bacon()'''\n"
   ]
  },
  {
   "cell_type": "code",
   "execution_count": 12,
   "id": "7c79534e",
   "metadata": {},
   "outputs": [
    {
     "data": {
      "text/plain": [
       "\"1. Prevents program from crashing if an error occurs. If an error occurs in a program, we don't want the program\\n    to unexpectedly crash on the user. Instead, error handling can be used to notify the user of why the error occurred \\n    and gracefully exit the process that caused the error.\\n    \\n    Error-Handling Practices-\\n    -Exception handling using try - except and try - except - finally\\n    -Assertions\\n    -When to use exceptions vs. assertions\""
      ]
     },
     "execution_count": 12,
     "metadata": {},
     "output_type": "execute_result"
    }
   ],
   "source": [
    "#13. What can you do to save a programme from crashing if it encounters an error?\n",
    "'''1. Prevents program from crashing if an error occurs. If an error occurs in a program, we don't want the program\n",
    "    to unexpectedly crash on the user. Instead, error handling can be used to notify the user of why the error occurred \n",
    "    and gracefully exit the process that caused the error.\n",
    "    \n",
    "    Error-Handling Practices-\n",
    "    -Exception handling using try - except and try - except - finally\n",
    "    -Assertions\n",
    "    -When to use exceptions vs. assertions'''"
   ]
  },
  {
   "cell_type": "code",
   "execution_count": null,
   "id": "82fbdd1f",
   "metadata": {},
   "outputs": [],
   "source": [
    "#14. What is the purpose of the try clause? What is the purpose of the except clause?\n",
    "'''The Python try…except statement runs the code under the “try” statement. If this code does not execute successfully, \n",
    "    the program will stop at the line that caused the error and the “except” code will run'''\n",
    "\n",
    "'''try:\n",
    "\tyourcode...\n",
    "except:\n",
    "\tyourcode..'''"
   ]
  }
 ],
 "metadata": {
  "kernelspec": {
   "display_name": "Python 3 (ipykernel)",
   "language": "python",
   "name": "python3"
  },
  "language_info": {
   "codemirror_mode": {
    "name": "ipython",
    "version": 3
   },
   "file_extension": ".py",
   "mimetype": "text/x-python",
   "name": "python",
   "nbconvert_exporter": "python",
   "pygments_lexer": "ipython3",
   "version": "3.9.7"
  }
 },
 "nbformat": 4,
 "nbformat_minor": 5
}
